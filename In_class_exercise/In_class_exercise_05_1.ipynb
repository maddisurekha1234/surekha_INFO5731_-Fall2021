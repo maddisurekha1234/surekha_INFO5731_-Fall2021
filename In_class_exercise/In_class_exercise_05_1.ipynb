{
  "nbformat": 4,
  "nbformat_minor": 0,
  "metadata": {
    "kernelspec": {
      "display_name": "Python 3",
      "language": "python",
      "name": "python3"
    },
    "language_info": {
      "codemirror_mode": {
        "name": "ipython",
        "version": 3
      },
      "file_extension": ".py",
      "mimetype": "text/x-python",
      "name": "python",
      "nbconvert_exporter": "python",
      "pygments_lexer": "ipython3",
      "version": "3.8.5"
    },
    "colab": {
      "name": "In_class_exercise_05-1.ipynb",
      "provenance": [],
      "collapsed_sections": [],
      "include_colab_link": true
    }
  },
  "cells": [
    {
      "cell_type": "markdown",
      "metadata": {
        "id": "view-in-github",
        "colab_type": "text"
      },
      "source": [
        "<a href=\"https://colab.research.google.com/github/maddisurekha1234/surekha_INFO5731_-Fall2021/blob/main/In_class_exercise/In_class_exercise_05_1.ipynb\" target=\"_parent\"><img src=\"https://colab.research.google.com/assets/colab-badge.svg\" alt=\"Open In Colab\"/></a>"
      ]
    },
    {
      "cell_type": "markdown",
      "metadata": {
        "id": "fV5bFyH0ey9A"
      },
      "source": [
        "# **The fifth in-class-exercise (40 points in total, 11/11/2021)**"
      ]
    },
    {
      "cell_type": "markdown",
      "metadata": {
        "id": "COqDAtfXey9E"
      },
      "source": [
        "(20 points) The purpose of the question is to practice different machine learning algorithms for text classification as well as the performance evaluation. In addition, you are requried to conduct *10 fold cross validation (https://scikit-learn.org/stable/modules/cross_validation.html)* in the training. \n",
        "\n",
        "The dataset can be download from here: https://github.com/unt-iialab/info5731_spring2021/blob/main/class_exercises/exercise09_datacollection.zip. The dataset contains two files train data and test data for sentiment analysis in IMDB review, it has two categories: 1 represents positive and 0 represents negative. You need to split the training data into training and validate data (80% for training and 20% for validation, https://towardsdatascience.com/train-test-split-and-cross-validation-in-python-80b61beca4b6) and perform 10 fold cross validation while training the classifier. The final trained model was final evaluated on the test data. \n",
        "\n",
        "Algorithms:\n",
        "\n",
        "(1) MultinominalNB\n",
        "\n",
        "(2) SVM \n",
        "\n",
        "(3) KNN \n",
        "\n",
        "(4) Decision tree\n",
        "\n",
        "(5) Random Forest\n",
        "\n",
        "(6) XGBoost\n",
        "\n",
        "Evaluation measurement:\n",
        "\n",
        "(1) Accuracy\n",
        "\n",
        "(2) Recall\n",
        "\n",
        "(3) Precison \n",
        "\n",
        "(4) F-1 score"
      ]
    },
    {
      "cell_type": "code",
      "metadata": {
        "colab": {
          "base_uri": "https://localhost:8080/"
        },
        "id": "uxDMqogfey9F",
        "outputId": "95f75dae-0b2b-436b-f04e-8763e8188e92"
      },
      "source": [
        "# Write your code here\n",
        "import nltk\n",
        "nltk.download()\n",
        "\n"
      ],
      "execution_count": 41,
      "outputs": [
        {
          "name": "stdout",
          "output_type": "stream",
          "text": [
            "NLTK Downloader\n",
            "---------------------------------------------------------------------------\n",
            "    d) Download   l) List    u) Update   c) Config   h) Help   q) Quit\n",
            "---------------------------------------------------------------------------\n",
            "Downloader> d\n",
            "\n",
            "Download which package (l=list; x=cancel)?\n",
            "  Identifier> all\n",
            "    Downloading collection 'all'\n",
            "       | \n",
            "       | Downloading package abc to /root/nltk_data...\n",
            "       |   Package abc is already up-to-date!\n",
            "       | Downloading package alpino to /root/nltk_data...\n",
            "       |   Package alpino is already up-to-date!\n",
            "       | Downloading package biocreative_ppi to /root/nltk_data...\n",
            "       |   Package biocreative_ppi is already up-to-date!\n",
            "       | Downloading package brown to /root/nltk_data...\n",
            "       |   Package brown is already up-to-date!\n",
            "       | Downloading package brown_tei to /root/nltk_data...\n",
            "       |   Package brown_tei is already up-to-date!\n",
            "       | Downloading package cess_cat to /root/nltk_data...\n",
            "       |   Package cess_cat is already up-to-date!\n",
            "       | Downloading package cess_esp to /root/nltk_data...\n",
            "       |   Package cess_esp is already up-to-date!\n",
            "       | Downloading package chat80 to /root/nltk_data...\n",
            "       |   Package chat80 is already up-to-date!\n",
            "       | Downloading package city_database to /root/nltk_data...\n",
            "       |   Package city_database is already up-to-date!\n",
            "       | Downloading package cmudict to /root/nltk_data...\n",
            "       |   Package cmudict is already up-to-date!\n",
            "       | Downloading package comparative_sentences to\n",
            "       |     /root/nltk_data...\n",
            "       |   Package comparative_sentences is already up-to-date!\n",
            "       | Downloading package comtrans to /root/nltk_data...\n",
            "       |   Package comtrans is already up-to-date!\n",
            "       | Downloading package conll2000 to /root/nltk_data...\n",
            "       |   Package conll2000 is already up-to-date!\n",
            "       | Downloading package conll2002 to /root/nltk_data...\n",
            "       |   Package conll2002 is already up-to-date!\n",
            "       | Downloading package conll2007 to /root/nltk_data...\n",
            "       |   Package conll2007 is already up-to-date!\n",
            "       | Downloading package crubadan to /root/nltk_data...\n",
            "       |   Package crubadan is already up-to-date!\n",
            "       | Downloading package dependency_treebank to /root/nltk_data...\n",
            "       |   Package dependency_treebank is already up-to-date!\n",
            "       | Downloading package dolch to /root/nltk_data...\n",
            "       |   Package dolch is already up-to-date!\n",
            "       | Downloading package europarl_raw to /root/nltk_data...\n",
            "       |   Package europarl_raw is already up-to-date!\n",
            "       | Downloading package floresta to /root/nltk_data...\n",
            "       |   Package floresta is already up-to-date!\n",
            "       | Downloading package framenet_v15 to /root/nltk_data...\n",
            "       |   Package framenet_v15 is already up-to-date!\n",
            "       | Downloading package framenet_v17 to /root/nltk_data...\n",
            "       |   Package framenet_v17 is already up-to-date!\n",
            "       | Downloading package gazetteers to /root/nltk_data...\n",
            "       |   Package gazetteers is already up-to-date!\n",
            "       | Downloading package genesis to /root/nltk_data...\n",
            "       |   Package genesis is already up-to-date!\n",
            "       | Downloading package gutenberg to /root/nltk_data...\n",
            "       |   Package gutenberg is already up-to-date!\n",
            "       | Downloading package ieer to /root/nltk_data...\n",
            "       |   Package ieer is already up-to-date!\n",
            "       | Downloading package inaugural to /root/nltk_data...\n",
            "       |   Package inaugural is already up-to-date!\n",
            "       | Downloading package indian to /root/nltk_data...\n",
            "       |   Package indian is already up-to-date!\n",
            "       | Downloading package jeita to /root/nltk_data...\n",
            "       |   Package jeita is already up-to-date!\n",
            "       | Downloading package kimmo to /root/nltk_data...\n",
            "       |   Package kimmo is already up-to-date!\n",
            "       | Downloading package knbc to /root/nltk_data...\n",
            "       |   Package knbc is already up-to-date!\n",
            "       | Downloading package lin_thesaurus to /root/nltk_data...\n",
            "       |   Package lin_thesaurus is already up-to-date!\n",
            "       | Downloading package mac_morpho to /root/nltk_data...\n",
            "       |   Package mac_morpho is already up-to-date!\n",
            "       | Downloading package machado to /root/nltk_data...\n",
            "       |   Package machado is already up-to-date!\n",
            "       | Downloading package masc_tagged to /root/nltk_data...\n",
            "       |   Package masc_tagged is already up-to-date!\n",
            "       | Downloading package moses_sample to /root/nltk_data...\n",
            "       |   Package moses_sample is already up-to-date!\n",
            "       | Downloading package movie_reviews to /root/nltk_data...\n",
            "       |   Package movie_reviews is already up-to-date!\n",
            "       | Downloading package names to /root/nltk_data...\n",
            "       |   Package names is already up-to-date!\n",
            "       | Downloading package nombank.1.0 to /root/nltk_data...\n",
            "       |   Package nombank.1.0 is already up-to-date!\n",
            "       | Downloading package nps_chat to /root/nltk_data...\n",
            "       |   Package nps_chat is already up-to-date!\n",
            "       | Downloading package omw to /root/nltk_data...\n",
            "       |   Package omw is already up-to-date!\n",
            "       | Downloading package opinion_lexicon to /root/nltk_data...\n",
            "       |   Package opinion_lexicon is already up-to-date!\n",
            "       | Downloading package paradigms to /root/nltk_data...\n",
            "       |   Package paradigms is already up-to-date!\n",
            "       | Downloading package pil to /root/nltk_data...\n",
            "       |   Package pil is already up-to-date!\n",
            "       | Downloading package pl196x to /root/nltk_data...\n",
            "       |   Package pl196x is already up-to-date!\n",
            "       | Downloading package ppattach to /root/nltk_data...\n",
            "       |   Package ppattach is already up-to-date!\n",
            "       | Downloading package problem_reports to /root/nltk_data...\n",
            "       |   Package problem_reports is already up-to-date!\n",
            "       | Downloading package propbank to /root/nltk_data...\n",
            "       |   Package propbank is already up-to-date!\n",
            "       | Downloading package ptb to /root/nltk_data...\n",
            "       |   Package ptb is already up-to-date!\n",
            "       | Downloading package product_reviews_1 to /root/nltk_data...\n",
            "       |   Package product_reviews_1 is already up-to-date!\n",
            "       | Downloading package product_reviews_2 to /root/nltk_data...\n",
            "       |   Package product_reviews_2 is already up-to-date!\n",
            "       | Downloading package pros_cons to /root/nltk_data...\n",
            "       |   Package pros_cons is already up-to-date!\n",
            "       | Downloading package qc to /root/nltk_data...\n",
            "       |   Package qc is already up-to-date!\n",
            "       | Downloading package reuters to /root/nltk_data...\n",
            "       |   Package reuters is already up-to-date!\n",
            "       | Downloading package rte to /root/nltk_data...\n",
            "       |   Package rte is already up-to-date!\n",
            "       | Downloading package semcor to /root/nltk_data...\n",
            "       |   Package semcor is already up-to-date!\n",
            "       | Downloading package senseval to /root/nltk_data...\n",
            "       |   Package senseval is already up-to-date!\n",
            "       | Downloading package sentiwordnet to /root/nltk_data...\n",
            "       |   Package sentiwordnet is already up-to-date!\n",
            "       | Downloading package sentence_polarity to /root/nltk_data...\n",
            "       |   Package sentence_polarity is already up-to-date!\n",
            "       | Downloading package shakespeare to /root/nltk_data...\n",
            "       |   Package shakespeare is already up-to-date!\n",
            "       | Downloading package sinica_treebank to /root/nltk_data...\n",
            "       |   Package sinica_treebank is already up-to-date!\n",
            "       | Downloading package smultron to /root/nltk_data...\n",
            "       |   Package smultron is already up-to-date!\n",
            "       | Downloading package state_union to /root/nltk_data...\n",
            "       |   Package state_union is already up-to-date!\n",
            "       | Downloading package stopwords to /root/nltk_data...\n",
            "       |   Package stopwords is already up-to-date!\n",
            "       | Downloading package subjectivity to /root/nltk_data...\n",
            "       |   Package subjectivity is already up-to-date!\n",
            "       | Downloading package swadesh to /root/nltk_data...\n",
            "       |   Package swadesh is already up-to-date!\n",
            "       | Downloading package switchboard to /root/nltk_data...\n",
            "       |   Package switchboard is already up-to-date!\n",
            "       | Downloading package timit to /root/nltk_data...\n",
            "       |   Package timit is already up-to-date!\n",
            "       | Downloading package toolbox to /root/nltk_data...\n",
            "       |   Package toolbox is already up-to-date!\n",
            "       | Downloading package treebank to /root/nltk_data...\n",
            "       |   Package treebank is already up-to-date!\n",
            "       | Downloading package twitter_samples to /root/nltk_data...\n",
            "       |   Package twitter_samples is already up-to-date!\n",
            "       | Downloading package udhr to /root/nltk_data...\n",
            "       |   Package udhr is already up-to-date!\n",
            "       | Downloading package udhr2 to /root/nltk_data...\n",
            "       |   Package udhr2 is already up-to-date!\n",
            "       | Downloading package unicode_samples to /root/nltk_data...\n",
            "       |   Package unicode_samples is already up-to-date!\n",
            "       | Downloading package universal_treebanks_v20 to\n",
            "       |     /root/nltk_data...\n",
            "       |   Package universal_treebanks_v20 is already up-to-date!\n",
            "       | Downloading package verbnet to /root/nltk_data...\n",
            "       |   Package verbnet is already up-to-date!\n",
            "       | Downloading package verbnet3 to /root/nltk_data...\n",
            "       |   Package verbnet3 is already up-to-date!\n",
            "       | Downloading package webtext to /root/nltk_data...\n",
            "       |   Package webtext is already up-to-date!\n",
            "       | Downloading package wordnet to /root/nltk_data...\n",
            "       |   Package wordnet is already up-to-date!\n",
            "       | Downloading package wordnet31 to /root/nltk_data...\n",
            "       |   Package wordnet31 is already up-to-date!\n",
            "       | Downloading package wordnet_ic to /root/nltk_data...\n",
            "       |   Package wordnet_ic is already up-to-date!\n",
            "       | Downloading package words to /root/nltk_data...\n",
            "       |   Package words is already up-to-date!\n",
            "       | Downloading package ycoe to /root/nltk_data...\n",
            "       |   Package ycoe is already up-to-date!\n",
            "       | Downloading package rslp to /root/nltk_data...\n",
            "       |   Package rslp is already up-to-date!\n",
            "       | Downloading package maxent_treebank_pos_tagger to\n",
            "       |     /root/nltk_data...\n",
            "       |   Package maxent_treebank_pos_tagger is already up-to-date!\n",
            "       | Downloading package universal_tagset to /root/nltk_data...\n",
            "       |   Package universal_tagset is already up-to-date!\n",
            "       | Downloading package maxent_ne_chunker to /root/nltk_data...\n",
            "       |   Package maxent_ne_chunker is already up-to-date!\n",
            "       | Downloading package punkt to /root/nltk_data...\n",
            "       |   Package punkt is already up-to-date!\n",
            "       | Downloading package book_grammars to /root/nltk_data...\n",
            "       |   Package book_grammars is already up-to-date!\n",
            "       | Downloading package sample_grammars to /root/nltk_data...\n",
            "       |   Package sample_grammars is already up-to-date!\n",
            "       | Downloading package spanish_grammars to /root/nltk_data...\n",
            "       |   Package spanish_grammars is already up-to-date!\n",
            "       | Downloading package basque_grammars to /root/nltk_data...\n",
            "       |   Package basque_grammars is already up-to-date!\n",
            "       | Downloading package large_grammars to /root/nltk_data...\n",
            "       |   Package large_grammars is already up-to-date!\n",
            "       | Downloading package tagsets to /root/nltk_data...\n",
            "       |   Package tagsets is already up-to-date!\n",
            "       | Downloading package snowball_data to /root/nltk_data...\n",
            "       |   Package snowball_data is already up-to-date!\n",
            "       | Downloading package bllip_wsj_no_aux to /root/nltk_data...\n",
            "       |   Package bllip_wsj_no_aux is already up-to-date!\n",
            "       | Downloading package word2vec_sample to /root/nltk_data...\n",
            "       |   Package word2vec_sample is already up-to-date!\n",
            "       | Downloading package panlex_swadesh to /root/nltk_data...\n",
            "       |   Package panlex_swadesh is already up-to-date!\n",
            "       | Downloading package mte_teip5 to /root/nltk_data...\n",
            "       |   Package mte_teip5 is already up-to-date!\n",
            "       | Downloading package averaged_perceptron_tagger to\n",
            "       |     /root/nltk_data...\n",
            "       |   Package averaged_perceptron_tagger is already up-to-date!\n",
            "       | Downloading package averaged_perceptron_tagger_ru to\n",
            "       |     /root/nltk_data...\n",
            "       |   Package averaged_perceptron_tagger_ru is already up-to-\n",
            "       |       date!\n",
            "       | Downloading package perluniprops to /root/nltk_data...\n",
            "       |   Package perluniprops is already up-to-date!\n",
            "       | Downloading package nonbreaking_prefixes to\n",
            "       |     /root/nltk_data...\n",
            "       |   Package nonbreaking_prefixes is already up-to-date!\n",
            "       | Downloading package vader_lexicon to /root/nltk_data...\n",
            "       |   Package vader_lexicon is already up-to-date!\n",
            "       | Downloading package porter_test to /root/nltk_data...\n",
            "       |   Package porter_test is already up-to-date!\n",
            "       | Downloading package wmt15_eval to /root/nltk_data...\n",
            "       |   Package wmt15_eval is already up-to-date!\n",
            "       | Downloading package mwa_ppdb to /root/nltk_data...\n",
            "       |   Package mwa_ppdb is already up-to-date!\n",
            "       | \n",
            "     Done downloading collection all\n",
            "\n",
            "---------------------------------------------------------------------------\n",
            "    d) Download   l) List    u) Update   c) Config   h) Help   q) Quit\n",
            "---------------------------------------------------------------------------\n",
            "Downloader> q\n"
          ]
        },
        {
          "output_type": "execute_result",
          "data": {
            "text/plain": [
              "True"
            ]
          },
          "metadata": {},
          "execution_count": 41
        }
      ]
    },
    {
      "cell_type": "code",
      "metadata": {
        "id": "rAScPx62f5AA"
      },
      "source": [
        "#Reading and formating training data set\n",
        "import pandas as pd\n",
        "train_data = open('stsa-train.txt').read()\n",
        "train_label, train_text = [], []\n",
        "for i, j in enumerate(train_data.split(\"\\n\")):\n",
        "    c = j.split(' ')\n",
        "    train_label.append(c[0])\n",
        "    train_text.append(\" \".join(c[1:]))"
      ],
      "execution_count": 42,
      "outputs": []
    },
    {
      "cell_type": "code",
      "metadata": {
        "id": "SdFr5TjdnhoO"
      },
      "source": [
        "#Reading and formating test data set\n",
        "test_data = open('stsa-test.txt').read()\n",
        "test_label, test_text = [], []\n",
        "for i, j in enumerate(test_data.split(\"\\n\")):\n",
        "    c = j.split(' ')\n",
        "    test_label.append(c[0])\n",
        "    test_text.append(\" \".join(c[1:]))"
      ],
      "execution_count": 43,
      "outputs": []
    },
    {
      "cell_type": "code",
      "metadata": {
        "id": "eD0UEuzGnkrN"
      },
      "source": [
        "# creating data frame\n",
        "df = pd.DataFrame (list(zip(train_text, train_label)) , columns = ['Raw Text', 'Labels'])\n",
        "test_df = pd.DataFrame (list(zip(test_text, test_label)) , columns = ['Raw Text', 'Labels'])\n",
        "test_df = test_df.dropna()"
      ],
      "execution_count": 44,
      "outputs": []
    },
    {
      "cell_type": "code",
      "metadata": {
        "colab": {
          "base_uri": "https://localhost:8080/"
        },
        "id": "_WyVrbpBnoZi",
        "outputId": "78853237-2048-4813-c27b-39d84e594268"
      },
      "source": [
        "#cleaning train data set\n",
        "import re\n",
        "import nltk\n",
        "from nltk.corpus import stopwords\n",
        "from textblob import TextBlob\n",
        "from nltk.stem import PorterStemmer\n",
        "from textblob import Word\n",
        "nltk.download('wordnet')\n",
        "st = PorterStemmer()\n",
        "nltk.download('punkt')\n",
        "stop = stopwords.words('english')\n",
        "#Lower case\n",
        "df['After Lowercasing'] = df['Raw Text'].apply(lambda x: \" \".join(x.lower() for x in x.split()))\n",
        "#Removing Punctuation\n",
        "df['After Removing Punctuation'] = df['After Lowercasing'].str.replace('[^\\w\\s]','')\n",
        "#Removing special charachters\n",
        "df['After Removing special charachters'] = df['After Removing Punctuation'].apply(lambda x: ''.join(re.sub(r\"[^a-zA-Z0-9]+\", ' ', charctr) for charctr in x ))\n",
        "#Removing stopwords\n",
        "df['After Removing Stopwords'] = df['After Removing Punctuation'].apply(lambda x: \" \".join(x for x in x.split() if x not in stop))\n",
        "#Tokenization\n",
        "df['Tokenization'] = df['After Removing Stopwords'].apply(lambda x: TextBlob(x).words)\n",
        "#Lemmatization\n",
        "df['After Lemmatization'] = df['Tokenization'].apply(lambda x: \" \".join([Word(word).lemmatize() for word in x]))\n"
      ],
      "execution_count": 45,
      "outputs": [
        {
          "output_type": "stream",
          "name": "stdout",
          "text": [
            "[nltk_data] Downloading package wordnet to /root/nltk_data...\n",
            "[nltk_data]   Package wordnet is already up-to-date!\n",
            "[nltk_data] Downloading package punkt to /root/nltk_data...\n",
            "[nltk_data]   Package punkt is already up-to-date!\n"
          ]
        }
      ]
    },
    {
      "cell_type": "code",
      "metadata": {
        "id": "INtf4Nyinygh"
      },
      "source": [
        "#cleaning test data set\n",
        "\n",
        "#Lower case\n",
        "test_df['After Lowercasing'] = test_df['Raw Text'].apply(lambda x: \" \".join(x.lower() for x in x.split()))\n",
        "#Removing punctuation\n",
        "test_df['After Removing Punctuation'] = test_df['After Lowercasing'].str.replace('[^\\w\\s]','')\n",
        "#Removing special characters\n",
        "test_df['After Removing Special Characters'] = test_df['After Removing Punctuation'].apply(lambda x: ''.join(re.sub(r\"[^a-zA-Z0-9]+\", ' ', charctr) for charctr in x ))\n",
        "#Removing stopwords\n",
        "test_df['After Removing Stopwords'] = test_df['After Removing Punctuation'].apply(lambda x: \" \".join(x for x in x.split() if x not in stop))\n",
        "#Tokenization\n",
        "test_df['Tokenization'] = test_df['After Removing Stopwords'].apply(lambda x: TextBlob(x).words)\n",
        "#Lemmatization\n",
        "test_df['After Lemmatization'] = test_df['Tokenization'].apply(lambda x: \" \".join([Word(word).lemmatize() for word in x]))"
      ],
      "execution_count": 46,
      "outputs": []
    },
    {
      "cell_type": "code",
      "metadata": {
        "id": "AWrCk6gLob19"
      },
      "source": [
        "from sklearn.feature_extraction.text import TfidfVectorizer"
      ],
      "execution_count": 47,
      "outputs": []
    },
    {
      "cell_type": "code",
      "metadata": {
        "id": "lH6dALtEn19J"
      },
      "source": [
        "#Data Transformation of train data set\n",
        "from sklearn import model_selection, preprocessing, naive_bayes, metrics, svm\n",
        "# from sklearn.feature_extraction.text import TfidfVectorizer\n",
        "train_idf_vect = TfidfVectorizer(analyzer='word')\n",
        "train_idf_vect.fit(df['After Lemmatization'])\n",
        "x_tfidf =  train_idf_vect.transform(df['After Lemmatization'])"
      ],
      "execution_count": 48,
      "outputs": []
    },
    {
      "cell_type": "code",
      "metadata": {
        "id": "9gbBmg9an5Vv"
      },
      "source": [
        "#Data Tranformation of test data set\n",
        "vect_test = TfidfVectorizer(analyzer='word', vocabulary = train_idf_vect.vocabulary_)\n",
        "vect_test.fit(test_df['After Lemmatization'])\n",
        "xtest = vect_test.transform(test_df['After Lemmatization'])\n",
        "test_y = test_df['Labels']"
      ],
      "execution_count": 49,
      "outputs": []
    },
    {
      "cell_type": "code",
      "metadata": {
        "id": "7d9r2jfpXz9H"
      },
      "source": [
        "#splitting of data into training and testing\n",
        "\n",
        "from sklearn import model_selection, preprocessing, naive_bayes, metrics, svm\n",
        "train_x, valid_x, train_y, valid_y = model_selection.train_test_split(x_tfidf, df['Labels'].values,test_size=0.2)\n",
        "\n",
        "from sklearn import metrics\n",
        "def get_metrics(predictions, test_data_y):\n",
        "  acc = metrics.accuracy_score(predictions, test_data_y)\n",
        "  prec = metrics.precision_score(predictions, test_data_y, pos_label='positive', average='micro')\n",
        "  recall = metrics.recall_score(predictions, test_data_y, pos_label='positive', average='micro')\n",
        "  f1 = metrics.f1_score(predictions, test_data_y, pos_label='positive', average='micro')\n",
        "  return acc, prec, recall, f1\n",
        "\n",
        "import numpy as np\n",
        "from sklearn.model_selection import cross_val_score, KFold\n",
        "def cross_validation_score(modelName, x, y):\n",
        "  scoring = 'accuracy'\n",
        "  kfold = KFold(10, random_state = 7,shuffle=True)\n",
        "  cross_val = cross_val_score(modelName, x, y, cv=kfold).mean()\n",
        "  return cross_val"
      ],
      "execution_count": 50,
      "outputs": []
    },
    {
      "cell_type": "code",
      "metadata": {
        "colab": {
          "base_uri": "https://localhost:8080/"
        },
        "id": "WfjaX6HQX3da",
        "outputId": "d562ed4a-d7ca-4755-b7a3-d961d3e9e7b9"
      },
      "source": [
        "#Navie Bayes - Validation Metrics\n",
        "\n",
        "nbm = naive_bayes.MultinomialNB()\n",
        "nbm.fit(train_x, train_y)\n",
        "nbpvdata = nbm.predict(valid_x)\n",
        "acc, prec, recall, f1 = get_metrics(nbpvdata, valid_y)\n",
        "print(\"Accuracy is \", acc,\"\\nPrecision is\",prec,\"\\nRecall is:\",recall,\"\\nF1 is:\",f1)\n",
        "\n",
        "#cross validation scores of Navie Bayes\n",
        "nb_scores_mean = cross_validation_score(nbm, valid_x, valid_y)\n",
        "print('Navie Bayes Cross Validation Score is ',nb_scores_mean)\n",
        "\n",
        "#Testing Metrics\n",
        "nbpt_data = nbm.predict(xtest)\n",
        "acc, prec, recall, f1 = get_metrics(nbpt_data, test_y)\n",
        "print(\"Accuracy is \", acc,\"\\nPrecision is\",prec,\"\\nRecall is:\",recall,\"\\nF1 is:\",f1)\n",
        "\n",
        "#cross validation scores of MultinominalNB_Testing\n",
        "testing_mean = cross_validation_score(nbm, xtest, test_y)\n",
        "print('Navie Bayes Cross Validation Score is ', testing_mean)\n",
        "\n"
      ],
      "execution_count": 51,
      "outputs": [
        {
          "output_type": "stream",
          "name": "stderr",
          "text": [
            "/usr/local/lib/python3.7/dist-packages/sklearn/metrics/_classification.py:1321: UserWarning: Note that pos_label (set to 'positive') is ignored when average != 'binary' (got 'micro'). You may use labels=[pos_label] to specify a single positive class.\n",
            "  % (pos_label, average), UserWarning)\n",
            "/usr/local/lib/python3.7/dist-packages/sklearn/metrics/_classification.py:1321: UserWarning: Note that pos_label (set to 'positive') is ignored when average != 'binary' (got 'micro'). You may use labels=[pos_label] to specify a single positive class.\n",
            "  % (pos_label, average), UserWarning)\n"
          ]
        },
        {
          "output_type": "stream",
          "name": "stdout",
          "text": [
            "Accuracy is  0.7855595667870036 \n",
            "Precision is 0.7855595667870036 \n",
            "Recall is: 0.7855595667870036 \n",
            "F1 is: 0.7855595667870036\n",
            "Navie Bayes Cross Validation Score is  0.695975393598165\n",
            "Accuracy is  0.7892425905598244 \n",
            "Precision is 0.7892425905598244 \n",
            "Recall is: 0.7892425905598244 \n",
            "F1 is: 0.7892425905598244\n",
            "Navie Bayes Cross Validation Score is  0.7371044256290158\n"
          ]
        }
      ]
    },
    {
      "cell_type": "code",
      "metadata": {
        "colab": {
          "base_uri": "https://localhost:8080/"
        },
        "id": "_yais2YiX67u",
        "outputId": "cc9fd536-f664-41df-8783-076050c03fab"
      },
      "source": [
        "#SVM - Validation Metrics\n",
        "svm_model = svm.SVC()\n",
        "svm_model.fit(train_x, train_y)\n",
        "svm_predictions_validation_data = svm_model.predict(valid_x)\n",
        "accuracy, precision, recall, f1 = get_metrics(svm_predictions_validation_data, valid_y)\n",
        "print(\"Accuracy is \", accuracy,\"\\nPrecision is\",precision,\"\\nRecall is:\",recall,\"\\nF1 is:\",f1)\n",
        "\n",
        "#cross validation scores- svm\n",
        "svm_mean = cross_validation_score(svm_model, valid_x, valid_y)\n",
        "print('SVM Cross Validation Score is', svm_mean)\n",
        "\n",
        "#Testing Metrics\n",
        "svm_predictions_test_data = svm_model.predict(xtest)\n",
        "accuracy, precision, recall, f1 = get_metrics(svm_predictions_test_data, test_y)\n",
        "print(\"Accuracy is \", accuracy,\"\\nPrecision is\",precision,\"\\nRecall is:\",recall,\"\\nF1 is:\",f1)\n",
        "\n",
        "#cross validation scores- svm-testing\n",
        "svm_test_scores_mean = cross_validation_score(svm_model, xtest, test_y)\n",
        "print('SVM Cross Validation Score is {0}'.format(svm_test_scores_mean))"
      ],
      "execution_count": 52,
      "outputs": [
        {
          "output_type": "stream",
          "name": "stderr",
          "text": [
            "/usr/local/lib/python3.7/dist-packages/sklearn/metrics/_classification.py:1321: UserWarning: Note that pos_label (set to 'positive') is ignored when average != 'binary' (got 'micro'). You may use labels=[pos_label] to specify a single positive class.\n",
            "  % (pos_label, average), UserWarning)\n"
          ]
        },
        {
          "output_type": "stream",
          "name": "stdout",
          "text": [
            "Accuracy is  0.7826714801444044 \n",
            "Precision is 0.7826714801444044 \n",
            "Recall is: 0.7826714801444044 \n",
            "F1 is: 0.7826714801444044\n",
            "SVM Cross Validation Score is 0.685830466061933\n"
          ]
        },
        {
          "output_type": "stream",
          "name": "stderr",
          "text": [
            "/usr/local/lib/python3.7/dist-packages/sklearn/metrics/_classification.py:1321: UserWarning: Note that pos_label (set to 'positive') is ignored when average != 'binary' (got 'micro'). You may use labels=[pos_label] to specify a single positive class.\n",
            "  % (pos_label, average), UserWarning)\n"
          ]
        },
        {
          "output_type": "stream",
          "name": "stdout",
          "text": [
            "Accuracy is  0.7826564215148188 \n",
            "Precision is 0.7826564215148188 \n",
            "Recall is: 0.7826564215148188 \n",
            "F1 is: 0.782656421514819\n",
            "SVM Cross Validation Score is 0.7239086050561461\n"
          ]
        }
      ]
    },
    {
      "cell_type": "code",
      "metadata": {
        "colab": {
          "base_uri": "https://localhost:8080/"
        },
        "id": "1PYEcEuoYA2d",
        "outputId": "350c208f-fcc2-417d-aa6c-759ee6d624a3"
      },
      "source": [
        "#KNN\n",
        "from sklearn.neighbors import KNeighborsClassifier\n",
        "knn_model = KNeighborsClassifier(n_neighbors = 15)\n",
        "knn_model.fit(train_x, train_y)\n",
        "knn_predictions_valid_data = knn_model.predict(valid_x)\n",
        "accuracy, precision, recall, f1 = get_metrics(knn_predictions_valid_data, valid_y)\n",
        "print(\"Accuracy is \", accuracy,\"\\nPrecision is\",precision,\"\\nRecall is:\",recall,\"\\nF1 is:\",f1)\n",
        "\n",
        "#cross validation score\n",
        "knn_scores_mean = cross_validation_score(knn_model, valid_x, valid_y)\n",
        "print('KNN Cross Validation Score is', knn_scores_mean)\n",
        "\n",
        "#Testing Metrics\n",
        "knn_predictions_test_data = knn_model.predict(xtest)\n",
        "accuracy, precision, recall, f1 = get_metrics(knn_predictions_test_data, test_y)\n",
        "print(\"Accuracy is \", accuracy,\"\\nPrecision is\",precision,\"\\nRecall is:\",recall,\"\\nF1 is:\",f1)\n",
        "\n",
        "#cross validation scores-Testing \n",
        "knn_test_scores_mean = cross_validation_score(knn_model, xtest, test_y)\n",
        "print('KNN Cross Validation Score is', knn_test_scores_mean)"
      ],
      "execution_count": 53,
      "outputs": [
        {
          "output_type": "stream",
          "name": "stderr",
          "text": [
            "/usr/local/lib/python3.7/dist-packages/sklearn/metrics/_classification.py:1321: UserWarning: Note that pos_label (set to 'positive') is ignored when average != 'binary' (got 'micro'). You may use labels=[pos_label] to specify a single positive class.\n",
            "  % (pos_label, average), UserWarning)\n"
          ]
        },
        {
          "output_type": "stream",
          "name": "stdout",
          "text": [
            "Accuracy is  0.7299638989169676 \n",
            "Precision is 0.7299638989169676 \n",
            "Recall is: 0.7299638989169676 \n",
            "F1 is: 0.7299638989169676\n",
            "KNN Cross Validation Score is 0.6815764779480763\n"
          ]
        },
        {
          "output_type": "stream",
          "name": "stderr",
          "text": [
            "/usr/local/lib/python3.7/dist-packages/sklearn/metrics/_classification.py:1321: UserWarning: Note that pos_label (set to 'positive') is ignored when average != 'binary' (got 'micro'). You may use labels=[pos_label] to specify a single positive class.\n",
            "  % (pos_label, average), UserWarning)\n"
          ]
        },
        {
          "output_type": "stream",
          "name": "stdout",
          "text": [
            "Accuracy is  0.7387486278814489 \n",
            "Precision is 0.7387486278814489 \n",
            "Recall is: 0.7387486278814489 \n",
            "F1 is: 0.7387486278814488\n",
            "KNN Cross Validation Score is 0.6361376328589443\n"
          ]
        }
      ]
    },
    {
      "cell_type": "code",
      "metadata": {
        "colab": {
          "base_uri": "https://localhost:8080/"
        },
        "id": "T2xfBii5YEzu",
        "outputId": "122d9b75-f556-478c-8e57-ce28695e5b14"
      },
      "source": [
        "#Decision Tree\n",
        "from sklearn.tree import DecisionTreeClassifier\n",
        "decision_tree_model = DecisionTreeClassifier()\n",
        "decision_tree_model.fit(train_x, train_y)\n",
        "dt_predictions_valid_data = decision_tree_model.predict(valid_x)\n",
        "accuracy, precision, recall, f1 = get_metrics(dt_predictions_valid_data, valid_y)\n",
        "print(\"Accuracy is \", accuracy,\"\\nPrecision is\",precision,\"\\nRecall is:\",recall,\"\\nF1 is:\",f1)\n",
        "\n",
        "#cross validation scores\n",
        "decision_tree_scores_mean = cross_validation_score(decision_tree_model, valid_x, valid_y)\n",
        "print('Decision Tree Cross Validation Score is',decision_tree_scores_mean)\n",
        "\n",
        "#Testing Metrics\n",
        "decision_tree_predictions_test_data = decision_tree_model.predict(xtest)\n",
        "accuracy, precision, recall, f1 = get_metrics(decision_tree_predictions_test_data, test_y)\n",
        "print(\"Accuracy is \", accuracy,\"\\nPrecision is\",precision,\"\\nRecall is:\",recall,\"\\nF1 is:\",f1)\n",
        "\n",
        "#cross validation score testing\n",
        "decision_tree_test_scores_mean = cross_validation_score(decision_tree_model, xtest, test_y)\n",
        "print('Decision Tree Cross Validation Score is', decision_tree_test_scores_mean)"
      ],
      "execution_count": 54,
      "outputs": [
        {
          "output_type": "stream",
          "name": "stderr",
          "text": [
            "/usr/local/lib/python3.7/dist-packages/sklearn/metrics/_classification.py:1321: UserWarning: Note that pos_label (set to 'positive') is ignored when average != 'binary' (got 'micro'). You may use labels=[pos_label] to specify a single positive class.\n",
            "  % (pos_label, average), UserWarning)\n"
          ]
        },
        {
          "output_type": "stream",
          "name": "stdout",
          "text": [
            "Accuracy is  0.6620938628158844 \n",
            "Precision is 0.6620938628158844 \n",
            "Recall is: 0.6620938628158844 \n",
            "F1 is: 0.6620938628158844\n",
            "Decision Tree Cross Validation Score is 0.6043634657491399\n",
            "Accuracy is  0.6761800219538968 \n",
            "Precision is 0.6761800219538968 \n",
            "Recall is: 0.6761800219538968 \n",
            "F1 is: 0.6761800219538968\n"
          ]
        },
        {
          "output_type": "stream",
          "name": "stderr",
          "text": [
            "/usr/local/lib/python3.7/dist-packages/sklearn/metrics/_classification.py:1321: UserWarning: Note that pos_label (set to 'positive') is ignored when average != 'binary' (got 'micro'). You may use labels=[pos_label] to specify a single positive class.\n",
            "  % (pos_label, average), UserWarning)\n"
          ]
        },
        {
          "output_type": "stream",
          "name": "stdout",
          "text": [
            "Decision Tree Cross Validation Score is 0.6289437338617667\n"
          ]
        }
      ]
    },
    {
      "cell_type": "code",
      "metadata": {
        "colab": {
          "base_uri": "https://localhost:8080/"
        },
        "id": "6mGSW9giYJai",
        "outputId": "55cda491-c069-4799-ac44-dc5167029f46"
      },
      "source": [
        "#Random Forest\n",
        "from sklearn.ensemble import RandomForestClassifier\n",
        "random_forest_model = RandomForestClassifier()\n",
        "random_forest_model.fit(train_x, train_y)\n",
        "random_forest_predictions_valid_data = random_forest_model.predict(valid_x)\n",
        "accuracy, precision, recall, f1 = get_metrics(random_forest_predictions_valid_data, valid_y)\n",
        "print(\"Accuracy is \", accuracy,\"\\nPrecision is\",precision,\"\\nRecall is:\",recall,\"\\nF1 is:\",f1)\n",
        "\n",
        "#cross validation score\n",
        "random_forest_scores_mean = cross_validation_score(random_forest_model, valid_x, valid_y)\n",
        "print('Random Forest Cross Validation Score is {0}'.format(random_forest_scores_mean))\n",
        "\n",
        "#Testing Metrics\n",
        "random_forest_predictions_test_data = random_forest_model.predict(xtest)\n",
        "accuracy, precision, recall, f1 = get_metrics(random_forest_predictions_test_data, test_y)\n",
        "print(\"Accuracy is \", accuracy,\"\\nPrecision is\",precision,\"\\nRecall is:\",recall,\"\\nF1 is:\",f1)\n",
        "\n",
        "#cross validation score testing\n",
        "random_forest_test_scores_mean = cross_validation_score(random_forest_model, xtest, test_y)\n",
        "print('Random Forest Cross Validation Score is', random_forest_test_scores_mean)"
      ],
      "execution_count": 55,
      "outputs": [
        {
          "output_type": "stream",
          "name": "stderr",
          "text": [
            "/usr/local/lib/python3.7/dist-packages/sklearn/metrics/_classification.py:1321: UserWarning: Note that pos_label (set to 'positive') is ignored when average != 'binary' (got 'micro'). You may use labels=[pos_label] to specify a single positive class.\n",
            "  % (pos_label, average), UserWarning)\n"
          ]
        },
        {
          "output_type": "stream",
          "name": "stdout",
          "text": [
            "Accuracy is  0.752346570397112 \n",
            "Precision is 0.752346570397112 \n",
            "Recall is: 0.752346570397112 \n",
            "F1 is: 0.752346570397112\n",
            "Random Forest Cross Validation Score is 0.6678344281096862\n"
          ]
        },
        {
          "output_type": "stream",
          "name": "stderr",
          "text": [
            "/usr/local/lib/python3.7/dist-packages/sklearn/metrics/_classification.py:1321: UserWarning: Note that pos_label (set to 'positive') is ignored when average != 'binary' (got 'micro'). You may use labels=[pos_label] to specify a single positive class.\n",
            "  % (pos_label, average), UserWarning)\n"
          ]
        },
        {
          "output_type": "stream",
          "name": "stdout",
          "text": [
            "Accuracy is  0.743139407244786 \n",
            "Precision is 0.743139407244786 \n",
            "Recall is: 0.743139407244786 \n",
            "F1 is: 0.743139407244786\n",
            "Random Forest Cross Validation Score is 0.6712334113973457\n"
          ]
        }
      ]
    },
    {
      "cell_type": "code",
      "metadata": {
        "colab": {
          "base_uri": "https://localhost:8080/"
        },
        "id": "e8w118WzYZT_",
        "outputId": "aeeeef99-460e-4873-d7c1-01ffc09ba1f2"
      },
      "source": [
        "#XGBoost\n",
        "from xgboost import XGBClassifier\n",
        "xg_boost_model = XGBClassifier()\n",
        "xg_boost_model.fit(train_x, train_y)\n",
        "xg_boost_predictions_valid_data = xg_boost_model.predict(valid_x)\n",
        "accuracy, precision, recall, f1 = get_metrics(xg_boost_predictions_valid_data, valid_y)\n",
        "print(\"Accuracy is \", accuracy,\"\\nPrecision is\",precision,\"\\nRecall is:\",recall,\"\\nF1 is:\",f1)\n",
        "\n",
        "#cross validation score\n",
        "xg_boost_scores_mean = cross_validation_score(XGBClassifier(), valid_x, valid_y)\n",
        "print('XG Boost Cross Validation Score is ', xg_boost_scores_mean)\n",
        "\n",
        "#Testing\n",
        "xg_boost_predictions_test_data = xg_boost_model.predict(xtest)\n",
        "accuracy, precision, recall, f1 = get_metrics(xg_boost_predictions_test_data, test_y)\n",
        "print(\"Accuracy is \", accuracy,\"\\nPrecision is\",precision,\"\\nRecall is:\",recall,\"\\nF1 is:\",f1)\n",
        "\n",
        "#cross validation score testing\n",
        "xg_boost_test_scores_mean = cross_validation_score(XGBClassifier(), xtest, test_y)\n",
        "print('XG Boost Cross Validation Score is',xg_boost_test_scores_mean)"
      ],
      "execution_count": 56,
      "outputs": [
        {
          "output_type": "stream",
          "name": "stderr",
          "text": [
            "/usr/local/lib/python3.7/dist-packages/sklearn/metrics/_classification.py:1321: UserWarning: Note that pos_label (set to 'positive') is ignored when average != 'binary' (got 'micro'). You may use labels=[pos_label] to specify a single positive class.\n",
            "  % (pos_label, average), UserWarning)\n"
          ]
        },
        {
          "output_type": "stream",
          "name": "stdout",
          "text": [
            "Accuracy is  0.6368231046931407 \n",
            "Precision is 0.6368231046931407 \n",
            "Recall is: 0.6368231046931407 \n",
            "F1 is: 0.6368231046931407\n",
            "XG Boost Cross Validation Score is  0.6345480137629027\n",
            "Accuracy is  0.6432491767288694 \n",
            "Precision is 0.6432491767288694 \n",
            "Recall is: 0.6432491767288694 \n",
            "F1 is: 0.6432491767288694\n",
            "XG Boost Cross Validation Score is 0.6251035849396506\n"
          ]
        }
      ]
    },
    {
      "cell_type": "markdown",
      "metadata": {
        "id": "4FVrLaujey9G"
      },
      "source": [
        "(20 points) The purpose of the question is to practice different machine learning algorithms for text clustering\n",
        "Please downlad the dataset by using the following link.  https://www.kaggle.com/PromptCloudHQ/amazon-reviews-unlocked-mobile-phones\n",
        "(You can also use different text data which you want)\n",
        "\n",
        "Apply the listed clustering methods to the dataset:\n",
        "\n",
        "K means, \n",
        "DBSCAN,\n",
        "Hierarchical clustering. \n",
        "\n",
        "You can refer to of the codes from  the follwing link below. \n",
        "https://www.kaggle.com/karthik3890/text-clustering "
      ]
    },
    {
      "cell_type": "code",
      "metadata": {
        "colab": {
          "base_uri": "https://localhost:8080/"
        },
        "id": "I_sSn-EHey9H",
        "outputId": "487b6f93-70ef-4cc5-bf0a-24e8224cc0f6"
      },
      "source": [
        "#Write your code here.\n",
        "import nltk\n",
        "nltk.download()"
      ],
      "execution_count": 57,
      "outputs": [
        {
          "name": "stdout",
          "output_type": "stream",
          "text": [
            "NLTK Downloader\n",
            "---------------------------------------------------------------------------\n",
            "    d) Download   l) List    u) Update   c) Config   h) Help   q) Quit\n",
            "---------------------------------------------------------------------------\n",
            "Downloader> d\n",
            "\n",
            "Download which package (l=list; x=cancel)?\n",
            "  Identifier> all\n",
            "    Downloading collection 'all'\n",
            "       | \n",
            "       | Downloading package abc to /root/nltk_data...\n",
            "       |   Package abc is already up-to-date!\n",
            "       | Downloading package alpino to /root/nltk_data...\n",
            "       |   Package alpino is already up-to-date!\n",
            "       | Downloading package biocreative_ppi to /root/nltk_data...\n",
            "       |   Package biocreative_ppi is already up-to-date!\n",
            "       | Downloading package brown to /root/nltk_data...\n",
            "       |   Package brown is already up-to-date!\n",
            "       | Downloading package brown_tei to /root/nltk_data...\n",
            "       |   Package brown_tei is already up-to-date!\n",
            "       | Downloading package cess_cat to /root/nltk_data...\n",
            "       |   Package cess_cat is already up-to-date!\n",
            "       | Downloading package cess_esp to /root/nltk_data...\n",
            "       |   Package cess_esp is already up-to-date!\n",
            "       | Downloading package chat80 to /root/nltk_data...\n",
            "       |   Package chat80 is already up-to-date!\n",
            "       | Downloading package city_database to /root/nltk_data...\n",
            "       |   Package city_database is already up-to-date!\n",
            "       | Downloading package cmudict to /root/nltk_data...\n",
            "       |   Package cmudict is already up-to-date!\n",
            "       | Downloading package comparative_sentences to\n",
            "       |     /root/nltk_data...\n",
            "       |   Package comparative_sentences is already up-to-date!\n",
            "       | Downloading package comtrans to /root/nltk_data...\n",
            "       |   Package comtrans is already up-to-date!\n",
            "       | Downloading package conll2000 to /root/nltk_data...\n",
            "       |   Package conll2000 is already up-to-date!\n",
            "       | Downloading package conll2002 to /root/nltk_data...\n",
            "       |   Package conll2002 is already up-to-date!\n",
            "       | Downloading package conll2007 to /root/nltk_data...\n",
            "       |   Package conll2007 is already up-to-date!\n",
            "       | Downloading package crubadan to /root/nltk_data...\n",
            "       |   Package crubadan is already up-to-date!\n",
            "       | Downloading package dependency_treebank to /root/nltk_data...\n",
            "       |   Package dependency_treebank is already up-to-date!\n",
            "       | Downloading package dolch to /root/nltk_data...\n",
            "       |   Package dolch is already up-to-date!\n",
            "       | Downloading package europarl_raw to /root/nltk_data...\n",
            "       |   Package europarl_raw is already up-to-date!\n",
            "       | Downloading package floresta to /root/nltk_data...\n",
            "       |   Package floresta is already up-to-date!\n",
            "       | Downloading package framenet_v15 to /root/nltk_data...\n",
            "       |   Package framenet_v15 is already up-to-date!\n",
            "       | Downloading package framenet_v17 to /root/nltk_data...\n",
            "       |   Package framenet_v17 is already up-to-date!\n",
            "       | Downloading package gazetteers to /root/nltk_data...\n",
            "       |   Package gazetteers is already up-to-date!\n",
            "       | Downloading package genesis to /root/nltk_data...\n",
            "       |   Package genesis is already up-to-date!\n",
            "       | Downloading package gutenberg to /root/nltk_data...\n",
            "       |   Package gutenberg is already up-to-date!\n",
            "       | Downloading package ieer to /root/nltk_data...\n",
            "       |   Package ieer is already up-to-date!\n",
            "       | Downloading package inaugural to /root/nltk_data...\n",
            "       |   Package inaugural is already up-to-date!\n",
            "       | Downloading package indian to /root/nltk_data...\n",
            "       |   Package indian is already up-to-date!\n",
            "       | Downloading package jeita to /root/nltk_data...\n",
            "       |   Package jeita is already up-to-date!\n",
            "       | Downloading package kimmo to /root/nltk_data...\n",
            "       |   Package kimmo is already up-to-date!\n",
            "       | Downloading package knbc to /root/nltk_data...\n",
            "       |   Package knbc is already up-to-date!\n",
            "       | Downloading package lin_thesaurus to /root/nltk_data...\n",
            "       |   Package lin_thesaurus is already up-to-date!\n",
            "       | Downloading package mac_morpho to /root/nltk_data...\n",
            "       |   Package mac_morpho is already up-to-date!\n",
            "       | Downloading package machado to /root/nltk_data...\n",
            "       |   Package machado is already up-to-date!\n",
            "       | Downloading package masc_tagged to /root/nltk_data...\n",
            "       |   Package masc_tagged is already up-to-date!\n",
            "       | Downloading package moses_sample to /root/nltk_data...\n",
            "       |   Package moses_sample is already up-to-date!\n",
            "       | Downloading package movie_reviews to /root/nltk_data...\n",
            "       |   Package movie_reviews is already up-to-date!\n",
            "       | Downloading package names to /root/nltk_data...\n",
            "       |   Package names is already up-to-date!\n",
            "       | Downloading package nombank.1.0 to /root/nltk_data...\n",
            "       |   Package nombank.1.0 is already up-to-date!\n",
            "       | Downloading package nps_chat to /root/nltk_data...\n",
            "       |   Package nps_chat is already up-to-date!\n",
            "       | Downloading package omw to /root/nltk_data...\n",
            "       |   Package omw is already up-to-date!\n",
            "       | Downloading package opinion_lexicon to /root/nltk_data...\n",
            "       |   Package opinion_lexicon is already up-to-date!\n",
            "       | Downloading package paradigms to /root/nltk_data...\n",
            "       |   Package paradigms is already up-to-date!\n",
            "       | Downloading package pil to /root/nltk_data...\n",
            "       |   Package pil is already up-to-date!\n",
            "       | Downloading package pl196x to /root/nltk_data...\n",
            "       |   Package pl196x is already up-to-date!\n",
            "       | Downloading package ppattach to /root/nltk_data...\n",
            "       |   Package ppattach is already up-to-date!\n",
            "       | Downloading package problem_reports to /root/nltk_data...\n",
            "       |   Package problem_reports is already up-to-date!\n",
            "       | Downloading package propbank to /root/nltk_data...\n",
            "       |   Package propbank is already up-to-date!\n",
            "       | Downloading package ptb to /root/nltk_data...\n",
            "       |   Package ptb is already up-to-date!\n",
            "       | Downloading package product_reviews_1 to /root/nltk_data...\n",
            "       |   Package product_reviews_1 is already up-to-date!\n",
            "       | Downloading package product_reviews_2 to /root/nltk_data...\n",
            "       |   Package product_reviews_2 is already up-to-date!\n",
            "       | Downloading package pros_cons to /root/nltk_data...\n",
            "       |   Package pros_cons is already up-to-date!\n",
            "       | Downloading package qc to /root/nltk_data...\n",
            "       |   Package qc is already up-to-date!\n",
            "       | Downloading package reuters to /root/nltk_data...\n",
            "       |   Package reuters is already up-to-date!\n",
            "       | Downloading package rte to /root/nltk_data...\n",
            "       |   Package rte is already up-to-date!\n",
            "       | Downloading package semcor to /root/nltk_data...\n",
            "       |   Package semcor is already up-to-date!\n",
            "       | Downloading package senseval to /root/nltk_data...\n",
            "       |   Package senseval is already up-to-date!\n",
            "       | Downloading package sentiwordnet to /root/nltk_data...\n",
            "       |   Package sentiwordnet is already up-to-date!\n",
            "       | Downloading package sentence_polarity to /root/nltk_data...\n",
            "       |   Package sentence_polarity is already up-to-date!\n",
            "       | Downloading package shakespeare to /root/nltk_data...\n",
            "       |   Package shakespeare is already up-to-date!\n",
            "       | Downloading package sinica_treebank to /root/nltk_data...\n",
            "       |   Package sinica_treebank is already up-to-date!\n",
            "       | Downloading package smultron to /root/nltk_data...\n",
            "       |   Package smultron is already up-to-date!\n",
            "       | Downloading package state_union to /root/nltk_data...\n",
            "       |   Package state_union is already up-to-date!\n",
            "       | Downloading package stopwords to /root/nltk_data...\n",
            "       |   Package stopwords is already up-to-date!\n",
            "       | Downloading package subjectivity to /root/nltk_data...\n",
            "       |   Package subjectivity is already up-to-date!\n",
            "       | Downloading package swadesh to /root/nltk_data...\n",
            "       |   Package swadesh is already up-to-date!\n",
            "       | Downloading package switchboard to /root/nltk_data...\n",
            "       |   Package switchboard is already up-to-date!\n",
            "       | Downloading package timit to /root/nltk_data...\n",
            "       |   Package timit is already up-to-date!\n",
            "       | Downloading package toolbox to /root/nltk_data...\n",
            "       |   Package toolbox is already up-to-date!\n",
            "       | Downloading package treebank to /root/nltk_data...\n",
            "       |   Package treebank is already up-to-date!\n",
            "       | Downloading package twitter_samples to /root/nltk_data...\n",
            "       |   Package twitter_samples is already up-to-date!\n",
            "       | Downloading package udhr to /root/nltk_data...\n",
            "       |   Package udhr is already up-to-date!\n",
            "       | Downloading package udhr2 to /root/nltk_data...\n",
            "       |   Package udhr2 is already up-to-date!\n",
            "       | Downloading package unicode_samples to /root/nltk_data...\n",
            "       |   Package unicode_samples is already up-to-date!\n",
            "       | Downloading package universal_treebanks_v20 to\n",
            "       |     /root/nltk_data...\n",
            "       |   Package universal_treebanks_v20 is already up-to-date!\n",
            "       | Downloading package verbnet to /root/nltk_data...\n",
            "       |   Package verbnet is already up-to-date!\n",
            "       | Downloading package verbnet3 to /root/nltk_data...\n",
            "       |   Package verbnet3 is already up-to-date!\n",
            "       | Downloading package webtext to /root/nltk_data...\n",
            "       |   Package webtext is already up-to-date!\n",
            "       | Downloading package wordnet to /root/nltk_data...\n",
            "       |   Package wordnet is already up-to-date!\n",
            "       | Downloading package wordnet31 to /root/nltk_data...\n",
            "       |   Package wordnet31 is already up-to-date!\n",
            "       | Downloading package wordnet_ic to /root/nltk_data...\n",
            "       |   Package wordnet_ic is already up-to-date!\n",
            "       | Downloading package words to /root/nltk_data...\n",
            "       |   Package words is already up-to-date!\n",
            "       | Downloading package ycoe to /root/nltk_data...\n",
            "       |   Package ycoe is already up-to-date!\n",
            "       | Downloading package rslp to /root/nltk_data...\n",
            "       |   Package rslp is already up-to-date!\n",
            "       | Downloading package maxent_treebank_pos_tagger to\n",
            "       |     /root/nltk_data...\n",
            "       |   Package maxent_treebank_pos_tagger is already up-to-date!\n",
            "       | Downloading package universal_tagset to /root/nltk_data...\n",
            "       |   Package universal_tagset is already up-to-date!\n",
            "       | Downloading package maxent_ne_chunker to /root/nltk_data...\n",
            "       |   Package maxent_ne_chunker is already up-to-date!\n",
            "       | Downloading package punkt to /root/nltk_data...\n",
            "       |   Package punkt is already up-to-date!\n",
            "       | Downloading package book_grammars to /root/nltk_data...\n",
            "       |   Package book_grammars is already up-to-date!\n",
            "       | Downloading package sample_grammars to /root/nltk_data...\n",
            "       |   Package sample_grammars is already up-to-date!\n",
            "       | Downloading package spanish_grammars to /root/nltk_data...\n",
            "       |   Package spanish_grammars is already up-to-date!\n",
            "       | Downloading package basque_grammars to /root/nltk_data...\n",
            "       |   Package basque_grammars is already up-to-date!\n",
            "       | Downloading package large_grammars to /root/nltk_data...\n",
            "       |   Package large_grammars is already up-to-date!\n",
            "       | Downloading package tagsets to /root/nltk_data...\n",
            "       |   Package tagsets is already up-to-date!\n",
            "       | Downloading package snowball_data to /root/nltk_data...\n",
            "       |   Package snowball_data is already up-to-date!\n",
            "       | Downloading package bllip_wsj_no_aux to /root/nltk_data...\n",
            "       |   Package bllip_wsj_no_aux is already up-to-date!\n",
            "       | Downloading package word2vec_sample to /root/nltk_data...\n",
            "       |   Package word2vec_sample is already up-to-date!\n",
            "       | Downloading package panlex_swadesh to /root/nltk_data...\n",
            "       |   Package panlex_swadesh is already up-to-date!\n",
            "       | Downloading package mte_teip5 to /root/nltk_data...\n",
            "       |   Package mte_teip5 is already up-to-date!\n",
            "       | Downloading package averaged_perceptron_tagger to\n",
            "       |     /root/nltk_data...\n",
            "       |   Package averaged_perceptron_tagger is already up-to-date!\n",
            "       | Downloading package averaged_perceptron_tagger_ru to\n",
            "       |     /root/nltk_data...\n",
            "       |   Package averaged_perceptron_tagger_ru is already up-to-\n",
            "       |       date!\n",
            "       | Downloading package perluniprops to /root/nltk_data...\n",
            "       |   Package perluniprops is already up-to-date!\n",
            "       | Downloading package nonbreaking_prefixes to\n",
            "       |     /root/nltk_data...\n",
            "       |   Package nonbreaking_prefixes is already up-to-date!\n",
            "       | Downloading package vader_lexicon to /root/nltk_data...\n",
            "       |   Package vader_lexicon is already up-to-date!\n",
            "       | Downloading package porter_test to /root/nltk_data...\n",
            "       |   Package porter_test is already up-to-date!\n",
            "       | Downloading package wmt15_eval to /root/nltk_data...\n",
            "       |   Package wmt15_eval is already up-to-date!\n",
            "       | Downloading package mwa_ppdb to /root/nltk_data...\n",
            "       |   Package mwa_ppdb is already up-to-date!\n",
            "       | \n",
            "     Done downloading collection all\n",
            "\n",
            "---------------------------------------------------------------------------\n",
            "    d) Download   l) List    u) Update   c) Config   h) Help   q) Quit\n",
            "---------------------------------------------------------------------------\n",
            "Downloader> q\n"
          ]
        },
        {
          "output_type": "execute_result",
          "data": {
            "text/plain": [
              "True"
            ]
          },
          "metadata": {},
          "execution_count": 57
        }
      ]
    },
    {
      "cell_type": "code",
      "metadata": {
        "colab": {
          "base_uri": "https://localhost:8080/",
          "height": 503
        },
        "id": "4FaPX1h7bees",
        "outputId": "80941434-d987-4a75-9005-cac7d277b4cf"
      },
      "source": [
        "#You can write you answer here. (No code needed)\n",
        "\n",
        "import pandas as pd\n",
        "amazon_review = pd.read_csv(\"Amazon_Unlocked_Mobile.csv\")\n",
        "amazon_review = amazon_review.head(5000)\n",
        "print(amazon_review.shape)\n",
        "AfterRemoving_NullValues = amazon_review.dropna()\n",
        "print(AfterRemoving_NullValues.shape)\n",
        "import seaborn as sns\n",
        "sns.countplot(AfterRemoving_NullValues.Rating)\n",
        "#classifying\n",
        "def Classification_review(rating):\n",
        "    if rating < 3:\n",
        "        return 'negative'\n",
        "    return 'positive'\n",
        "\n",
        "Classification_rating = AfterRemoving_NullValues['Rating'].map(Classification_review) \n",
        "AfterRemoving_NullValues['Rating'] = Classification_rating\n",
        "AfterRemoving_NullValues['Rating'].value_counts()"
      ],
      "execution_count": 58,
      "outputs": [
        {
          "output_type": "stream",
          "name": "stdout",
          "text": [
            "(5000, 6)\n",
            "(3422, 6)\n"
          ]
        },
        {
          "output_type": "stream",
          "name": "stderr",
          "text": [
            "/usr/local/lib/python3.7/dist-packages/seaborn/_decorators.py:43: FutureWarning: Pass the following variable as a keyword arg: x. From version 0.12, the only valid positional argument will be `data`, and passing other arguments without an explicit keyword will result in an error or misinterpretation.\n",
            "  FutureWarning\n",
            "/usr/local/lib/python3.7/dist-packages/ipykernel_launcher.py:18: SettingWithCopyWarning: \n",
            "A value is trying to be set on a copy of a slice from a DataFrame.\n",
            "Try using .loc[row_indexer,col_indexer] = value instead\n",
            "\n",
            "See the caveats in the documentation: https://pandas.pydata.org/pandas-docs/stable/user_guide/indexing.html#returning-a-view-versus-a-copy\n"
          ]
        },
        {
          "output_type": "execute_result",
          "data": {
            "text/plain": [
              "positive    2522\n",
              "negative     900\n",
              "Name: Rating, dtype: int64"
            ]
          },
          "metadata": {},
          "execution_count": 58
        },
        {
          "output_type": "display_data",
          "data": {
            "image/png": "[encoded data removed]",
            "text/plain": [
              "<Figure size 432x288 with 1 Axes>"
            ]
          },
          "metadata": {
            "needs_background": "light"
          }
        }
      ]
    },
    {
      "cell_type": "code",
      "metadata": {
        "colab": {
          "base_uri": "https://localhost:8080/",
          "height": 350
        },
        "id": "wYg3WrPJbi06",
        "outputId": "b98166c4-c204-47ba-9621-4d840b894364"
      },
      "source": [
        "import seaborn as sns\n",
        "sns.countplot(AfterRemoving_NullValues.Rating)"
      ],
      "execution_count": 59,
      "outputs": [
        {
          "output_type": "stream",
          "name": "stderr",
          "text": [
            "/usr/local/lib/python3.7/dist-packages/seaborn/_decorators.py:43: FutureWarning: Pass the following variable as a keyword arg: x. From version 0.12, the only valid positional argument will be `data`, and passing other arguments without an explicit keyword will result in an error or misinterpretation.\n",
            "  FutureWarning\n"
          ]
        },
        {
          "output_type": "execute_result",
          "data": {
            "text/plain": [
              "<matplotlib.axes._subplots.AxesSubplot at 0x7f024b9b1d10>"
            ]
          },
          "metadata": {},
          "execution_count": 59
        },
        {
          "output_type": "display_data",
          "data": {
            "image/png": "[encoded data removed]",
            "text/plain": [
              "<Figure size 432x288 with 1 Axes>"
            ]
          },
          "metadata": {
            "needs_background": "light"
          }
        }
      ]
    },
    {
      "cell_type": "code",
      "metadata": {
        "colab": {
          "base_uri": "https://localhost:8080/"
        },
        "id": "D5QsegU4boLL",
        "outputId": "ccee23e2-4e26-4bbb-bab7-fad574704bc9"
      },
      "source": [
        "#pre processing\n",
        "import nltk\n",
        "nltk.download('stopwords')\n",
        "from nltk.corpus import stopwords\n",
        "stop = stopwords.words('english')\n",
        "import re\n",
        "c=0;\n",
        "for i in AfterRemoving_NullValues['Reviews'].values:\n",
        "    if (len(re.findall('<.*?>', i))):\n",
        "        print(c)\n",
        "        print(i)\n",
        "        break;\n",
        "    c += 1;\n",
        "\n",
        "def html(sentence):\n",
        "    cleaned= re.compile('<.*?>')\n",
        "    cleaned_text = re.sub(cleaned, ' ', sentence)\n",
        "    return cleaned_text\n",
        "#lower case\n",
        "AfterRemoving_NullValues['After Lowercasing'] = AfterRemoving_NullValues['Reviews'].apply(lambda x: \" \".join(x.lower() for x in x.split()))\n",
        "#clean html\n",
        "AfterRemoving_NullValues['After Cleaning HTML'] = AfterRemoving_NullValues['After Lowercasing'].apply(lambda x: html(x))\n",
        "#Removing special charachters\n",
        "AfterRemoving_NullValues['Cleaned Text'] = AfterRemoving_NullValues['After Cleaning HTML'].apply(lambda x: ''.join(re.sub(r\"[^a-zA-Z0-9]+\", ' ', charctr) for charctr in x ))\n",
        "#stop words removal\n",
        "AfterRemoving_NullValues['Cleaned Text'] = AfterRemoving_NullValues['Cleaned Text'].apply(lambda x: \" \".join(x for x in x.split() if x not in stop))"
      ],
      "execution_count": 60,
      "outputs": [
        {
          "output_type": "stream",
          "name": "stdout",
          "text": [
            "[nltk_data] Downloading package stopwords to /root/nltk_data...\n",
            "[nltk_data]   Package stopwords is already up-to-date!\n",
            "3205\n",
            "Unless you know how to jail break this phone... what's the point? Most apps don't support this old phone. <(it's not really old, they just want you to spend money on the newer version. wtf? but whatever)>\n"
          ]
        },
        {
          "output_type": "stream",
          "name": "stderr",
          "text": [
            "/usr/local/lib/python3.7/dist-packages/ipykernel_launcher.py:20: SettingWithCopyWarning: \n",
            "A value is trying to be set on a copy of a slice from a DataFrame.\n",
            "Try using .loc[row_indexer,col_indexer] = value instead\n",
            "\n",
            "See the caveats in the documentation: https://pandas.pydata.org/pandas-docs/stable/user_guide/indexing.html#returning-a-view-versus-a-copy\n",
            "/usr/local/lib/python3.7/dist-packages/ipykernel_launcher.py:22: SettingWithCopyWarning: \n",
            "A value is trying to be set on a copy of a slice from a DataFrame.\n",
            "Try using .loc[row_indexer,col_indexer] = value instead\n",
            "\n",
            "See the caveats in the documentation: https://pandas.pydata.org/pandas-docs/stable/user_guide/indexing.html#returning-a-view-versus-a-copy\n",
            "/usr/local/lib/python3.7/dist-packages/ipykernel_launcher.py:24: SettingWithCopyWarning: \n",
            "A value is trying to be set on a copy of a slice from a DataFrame.\n",
            "Try using .loc[row_indexer,col_indexer] = value instead\n",
            "\n",
            "See the caveats in the documentation: https://pandas.pydata.org/pandas-docs/stable/user_guide/indexing.html#returning-a-view-versus-a-copy\n",
            "/usr/local/lib/python3.7/dist-packages/ipykernel_launcher.py:26: SettingWithCopyWarning: \n",
            "A value is trying to be set on a copy of a slice from a DataFrame.\n",
            "Try using .loc[row_indexer,col_indexer] = value instead\n",
            "\n",
            "See the caveats in the documentation: https://pandas.pydata.org/pandas-docs/stable/user_guide/indexing.html#returning-a-view-versus-a-copy\n"
          ]
        }
      ]
    },
    {
      "cell_type": "code",
      "metadata": {
        "colab": {
          "base_uri": "https://localhost:8080/"
        },
        "id": "qrxngsb9bu4f",
        "outputId": "028557d8-2216-4c58-84bd-aff1d1827c1f"
      },
      "source": [
        "# k means\n",
        "from sklearn.feature_extraction.text import CountVectorizer\n",
        "vector_count = CountVectorizer()\n",
        "counted = vector_count.fit_transform(AfterRemoving_NullValues['Cleaned Text'].values)\n",
        "column_names = vector_count.get_feature_names()\n",
        "from sklearn.cluster import KMeans\n",
        "model = KMeans(n_clusters = 10, init='k-means++', n_jobs = -1, random_state=99)\n",
        "model.fit(counted)\n",
        "\n",
        "label = model.labels_\n",
        "cc = model.cluster_centers_\n",
        "print(cc)\n",
        "\n",
        "from sklearn import metrics\n",
        "ss = metrics.silhouette_score(counted, label, metric='euclidean')\n",
        "print(ss)\n",
        "\n",
        "data_frame = AfterRemoving_NullValues\n",
        "data_frame['Bow Clus Label'] = model.labels_\n",
        "data_frame.groupby(['Bow Clus Label'])['Reviews'].count()"
      ],
      "execution_count": 61,
      "outputs": [
        {
          "output_type": "stream",
          "name": "stdout",
          "text": [
            "[[2.05479452e-02 0.00000000e+00 0.00000000e+00 ... 0.00000000e+00\n",
            "  0.00000000e+00 6.84931507e-03]\n",
            " [2.63059000e-03 0.00000000e+00 7.51597144e-04 ... 1.50319429e-03\n",
            "  0.00000000e+00 0.00000000e+00]\n",
            " [0.00000000e+00 0.00000000e+00 0.00000000e+00 ... 0.00000000e+00\n",
            "  0.00000000e+00 1.00000000e+00]\n",
            " ...\n",
            " [0.00000000e+00 0.00000000e+00 0.00000000e+00 ... 0.00000000e+00\n",
            "  0.00000000e+00 0.00000000e+00]\n",
            " [0.00000000e+00 0.00000000e+00 0.00000000e+00 ... 0.00000000e+00\n",
            "  0.00000000e+00 0.00000000e+00]\n",
            " [0.00000000e+00 0.00000000e+00 0.00000000e+00 ... 0.00000000e+00\n",
            "  0.00000000e+00 0.00000000e+00]]\n",
            "0.35392908766809134\n"
          ]
        },
        {
          "output_type": "stream",
          "name": "stderr",
          "text": [
            "/usr/local/lib/python3.7/dist-packages/ipykernel_launcher.py:19: SettingWithCopyWarning: \n",
            "A value is trying to be set on a copy of a slice from a DataFrame.\n",
            "Try using .loc[row_indexer,col_indexer] = value instead\n",
            "\n",
            "See the caveats in the documentation: https://pandas.pydata.org/pandas-docs/stable/user_guide/indexing.html#returning-a-view-versus-a-copy\n"
          ]
        },
        {
          "output_type": "execute_result",
          "data": {
            "text/plain": [
              "Bow Clus Label\n",
              "0     146\n",
              "1    2661\n",
              "2       1\n",
              "3      36\n",
              "4      21\n",
              "5     548\n",
              "6       2\n",
              "7       3\n",
              "8       2\n",
              "9       2\n",
              "Name: Reviews, dtype: int64"
            ]
          },
          "metadata": {},
          "execution_count": 61
        }
      ]
    },
    {
      "cell_type": "code",
      "metadata": {
        "colab": {
          "base_uri": "https://localhost:8080/",
          "height": 1000
        },
        "id": "_TWGTZINb1kV",
        "outputId": "4cac6b75-52c5-4832-ec50-b1d5e4752e5d"
      },
      "source": [
        "print(\"cluster ranking per each term\")\n",
        "order = model.cluster_centers_.argsort()[:, ::-1]\n",
        "terms_count = vector_count.get_feature_names()\n",
        "for i in range(10):\n",
        "    print(\"Cluster %d:\" % i, end='')\n",
        "    for ind in order[i, :10]:\n",
        "        print(' %s' % terms_count[ind], end='')\n",
        "        print()\n",
        "\n",
        "import matplotlib.pyplot as plt\n",
        "plt.bar([x for x in range(10)], data_frame.groupby(['Bow Clus Label'])['Reviews'].count(), alpha = 0.4)\n",
        "plt.title('KMeans')\n",
        "plt.xlabel(\"cluster no\")\n",
        "plt.ylabel(\"no of points\")\n",
        "plt.show()"
      ],
      "execution_count": 62,
      "outputs": [
        {
          "output_type": "stream",
          "name": "stdout",
          "text": [
            "cluster ranking per each term\n",
            "Cluster 0: phone\n",
            " good\n",
            " screen\n",
            " use\n",
            " great\n",
            " one\n",
            " like\n",
            " battery\n",
            " really\n",
            " sim\n",
            "Cluster 1: phone\n",
            " great\n",
            " good\n",
            " screen\n",
            " works\n",
            " price\n",
            " work\n",
            " like\n",
            " one\n",
            " love\n",
            "Cluster 2: idol\n",
            " sound\n",
            " light\n",
            " like\n",
            " screen\n",
            " bass\n",
            " even\n",
            " 5s\n",
            " version\n",
            " day\n",
            "Cluster 3: phone\n",
            " screen\n",
            " good\n",
            " camera\n",
            " like\n",
            " battery\n",
            " one\n",
            " use\n",
            " idol\n",
            " great\n",
            "Cluster 4: phone\n",
            " screen\n",
            " one\n",
            " like\n",
            " good\n",
            " camera\n",
            " would\n",
            " use\n",
            " phones\n",
            " get\n",
            "Cluster 5: phone\n",
            " screen\n",
            " great\n",
            " good\n",
            " one\n",
            " would\n",
            " like\n",
            " price\n",
            " get\n",
            " battery\n",
            "Cluster 6: phone\n",
            " camera\n",
            " tracfone\n",
            " idol\n",
            " data\n",
            " one\n",
            " use\n",
            " screen\n",
            " like\n",
            " time\n",
            "Cluster 7: carrier\n",
            " iphone\n",
            " phone\n",
            " purchase\n",
            " compatible\n",
            " card\n",
            " unlocked\n",
            " sim\n",
            " provider\n",
            " purchased\n",
            "Cluster 8: phone\n",
            " like\n",
            " good\n",
            " quality\n",
            " one\n",
            " camera\n",
            " really\n",
            " moto\n",
            " phones\n",
            " screen\n",
            "Cluster 9: phone\n",
            " camera\n",
            " like\n",
            " great\n",
            " screen\n",
            " really\n",
            " price\n",
            " app\n",
            " use\n",
            " better\n"
          ]
        },
        {
          "output_type": "display_data",
          "data": {
            "image/png": "[encoded data removed]",
            "text/plain": [
              "<Figure size 432x288 with 1 Axes>"
            ]
          },
          "metadata": {
            "needs_background": "light"
          }
        }
      ]
    },
    {
      "cell_type": "code",
      "metadata": {
        "colab": {
          "base_uri": "https://localhost:8080/"
        },
        "id": "9oXDCnnMcAZB",
        "outputId": "1a749ec9-3a84-4726-bb8f-f75232a0eac4"
      },
      "source": [
        "l = []\n",
        "for i in AfterRemoving_NullValues['Cleaned Text'].values:\n",
        "    l.append(i.split())\n",
        "\n",
        "import gensim\n",
        "w_v_model=gensim.models.Word2Vec(l,size=100, workers=4)\n",
        "\n",
        "\n",
        "import numpy as np\n",
        "vector_sentence = []\n",
        "for i in l:\n",
        "  sentence_vector = np.zeros(100)\n",
        "  count = 0\n",
        "  for word in i:\n",
        "    try:\n",
        "      vec = w_v_model.wv[word]\n",
        "      sentence_vector += vec\n",
        "      count += 1\n",
        "    except:\n",
        "      pass\n",
        "  sentence_vector /= count\n",
        "  vector_sentence.append(sentence_vector)\n",
        "vector_sentence = np.array(vector_sentence)\n",
        "vector_sentence = np.nan_to_num(vector_sentence)\n",
        "vector_sentence.shape\n",
        "\n",
        "num_clus = [x for x in range(3,11)]\n",
        "num_clus\n"
      ],
      "execution_count": 63,
      "outputs": [
        {
          "output_type": "stream",
          "name": "stderr",
          "text": [
            "/usr/local/lib/python3.7/dist-packages/ipykernel_launcher.py:21: RuntimeWarning: invalid value encountered in true_divide\n"
          ]
        },
        {
          "output_type": "execute_result",
          "data": {
            "text/plain": [
              "[3, 4, 5, 6, 7, 8, 9, 10]"
            ]
          },
          "metadata": {},
          "execution_count": 63
        }
      ]
    },
    {
      "cell_type": "code",
      "metadata": {
        "colab": {
          "base_uri": "https://localhost:8080/",
          "height": 329
        },
        "id": "d9278E6_cF65",
        "outputId": "3a9b127f-8700-45f8-aa6a-73e048acd3bc"
      },
      "source": [
        "error= []\n",
        "for i in num_clus:\n",
        "    kmeans = KMeans(n_clusters = i).fit(vector_sentence)\n",
        "    error.append(kmeans.inertia_)\n",
        "    \n",
        "minimal_cluster = np.argmin(error) + 2 \n",
        "plt.plot(num_clus, error)\n",
        "plt.title(\"Number of clusters based on elbow curve\")\n",
        "plt.xlabel(\"NO OF CLUSTERS\")\n",
        "plt.ylabel(\"SQUARED LOSS\")\n",
        "xy = (minimal_cluster, min(error))\n",
        "plt.annotate('(%s, %s)' % xy, xy = xy, textcoords='data')\n",
        "plt.show()\n",
        "\n",
        "print (\"minimal number of clusters obtained is - \", minimal_cluster)\n",
        "print (\"Loss for each minimal cluster is - \", min(error))"
      ],
      "execution_count": 64,
      "outputs": [
        {
          "output_type": "display_data",
          "data": {
            "image/png": "[encoded data removed]",
            "text/plain": [
              "<Figure size 432x288 with 1 Axes>"
            ]
          },
          "metadata": {
            "needs_background": "light"
          }
        },
        {
          "output_type": "stream",
          "name": "stdout",
          "text": [
            "minimal number of clusters obtained is -  9\n",
            "Loss for each minimal cluster is -  72.70565576372753\n"
          ]
        }
      ]
    },
    {
      "cell_type": "code",
      "metadata": {
        "colab": {
          "base_uri": "https://localhost:8080/",
          "height": 511
        },
        "id": "tRmOf67VcQwt",
        "outputId": "17f9a09c-e9f6-45f5-981b-0f68f28a1374"
      },
      "source": [
        "#DBSCAN CLUSTERING\n",
        "\n",
        "from sklearn.cluster import DBSCAN\n",
        "minPts = 2 * 100\n",
        "def lower_bound(nums, target):\n",
        "    l, r = 0, len(nums) - 1\n",
        "    while l <= r:\n",
        "        mid = int(l + (r - l) / 2)\n",
        "        if nums[mid] >= target:\n",
        "            r = mid - 1\n",
        "        else:\n",
        "            l = mid + 1\n",
        "    return l\n",
        "\n",
        "def neighbour_nearest(x, data):\n",
        "    dists = []\n",
        "    for val in data:\n",
        "        dist = np.sum((x - val) **2 )\n",
        "        if(len(dists) == 200 and dists[199] > dist):\n",
        "            l = int(lower_bound(dists, dist))\n",
        "            if l < 200 and l >= 0 and dists[l] > dist:\n",
        "                dists[l] = dist\n",
        "        else:\n",
        "            dists.append(dist)\n",
        "            dists.sort()\n",
        "    \n",
        "    return dists[199]\n",
        "\n",
        "neighbour = []\n",
        "for i in vector_sentence[:1500]:\n",
        "    neighbour.append( neighbour_nearest(i, vector_sentence[:1500]) )\n",
        "neighbour.sort()\n",
        "\n",
        "plt.figure(figsize=(14,4))\n",
        "plt.title(\"Right Eps hyperparameter\")\n",
        "plt.plot([x for x in range(len(neighbour))], neighbour)\n",
        "plt.xlabel(\"No of points\")\n",
        "plt.ylabel(\"Nearest Neighbour Distance\")\n",
        "plt.show()\n",
        "\n",
        "model_1 = DBSCAN(eps = 5, min_samples = minPts, n_jobs=-1)\n",
        "model_1.fit(vector_sentence)\n",
        "\n",
        "dbscan_cluster = data_frame\n",
        "dbscan_cluster['AVG-W2V Clus Label'] = model_1.labels_\n",
        "dbscan_cluster.groupby(['AVG-W2V Clus Label'])['Product Name', 'Brand Name', 'Reviews'].count()"
      ],
      "execution_count": 65,
      "outputs": [
        {
          "output_type": "display_data",
          "data": {
            "image/png": "[encoded data removed]",
            "text/plain": [
              "<Figure size 1008x288 with 1 Axes>"
            ]
          },
          "metadata": {
            "needs_background": "light"
          }
        },
        {
          "output_type": "stream",
          "name": "stderr",
          "text": [
            "/usr/local/lib/python3.7/dist-packages/ipykernel_launcher.py:45: SettingWithCopyWarning: \n",
            "A value is trying to be set on a copy of a slice from a DataFrame.\n",
            "Try using .loc[row_indexer,col_indexer] = value instead\n",
            "\n",
            "See the caveats in the documentation: https://pandas.pydata.org/pandas-docs/stable/user_guide/indexing.html#returning-a-view-versus-a-copy\n",
            "/usr/local/lib/python3.7/dist-packages/ipykernel_launcher.py:46: FutureWarning: Indexing with multiple keys (implicitly converted to a tuple of keys) will be deprecated, use a list instead.\n"
          ]
        },
        {
          "output_type": "execute_result",
          "data": {
            "text/html": [
              "<div>\n",
              "<style scoped>\n",
              "    .dataframe tbody tr th:only-of-type {\n",
              "        vertical-align: middle;\n",
              "    }\n",
              "\n",
              "    .dataframe tbody tr th {\n",
              "        vertical-align: top;\n",
              "    }\n",
              "\n",
              "    .dataframe thead th {\n",
              "        text-align: right;\n",
              "    }\n",
              "</style>\n",
              "<table border=\"1\" class=\"dataframe\">\n",
              "  <thead>\n",
              "    <tr style=\"text-align: right;\">\n",
              "      <th></th>\n",
              "      <th>Product Name</th>\n",
              "      <th>Brand Name</th>\n",
              "      <th>Reviews</th>\n",
              "    </tr>\n",
              "    <tr>\n",
              "      <th>AVG-W2V Clus Label</th>\n",
              "      <th></th>\n",
              "      <th></th>\n",
              "      <th></th>\n",
              "    </tr>\n",
              "  </thead>\n",
              "  <tbody>\n",
              "    <tr>\n",
              "      <th>0</th>\n",
              "      <td>3422</td>\n",
              "      <td>3422</td>\n",
              "      <td>3422</td>\n",
              "    </tr>\n",
              "  </tbody>\n",
              "</table>\n",
              "</div>"
            ],
            "text/plain": [
              "                    Product Name  Brand Name  Reviews\n",
              "AVG-W2V Clus Label                                   \n",
              "0                           3422        3422     3422"
            ]
          },
          "metadata": {},
          "execution_count": 65
        }
      ]
    },
    {
      "cell_type": "code",
      "metadata": {
        "colab": {
          "base_uri": "https://localhost:8080/",
          "height": 285
        },
        "id": "qvk8OBywcp34",
        "outputId": "1f412672-c86f-477c-971f-7e1190eb81c5"
      },
      "source": [
        "#Hierarchical clustering\n",
        "import scipy\n",
        "from scipy.cluster import hierarchy\n",
        "hirera_cluster=hierarchy.dendrogram(hierarchy.linkage(vector_sentence, method='ward'))\n",
        "plt.axhline(y=35)"
      ],
      "execution_count": 66,
      "outputs": [
        {
          "output_type": "execute_result",
          "data": {
            "text/plain": [
              "<matplotlib.lines.Line2D at 0x7f028761a250>"
            ]
          },
          "metadata": {},
          "execution_count": 66
        },
        {
          "output_type": "display_data",
          "data": {
            "image/png": "[encoded data removed]",
            "text/plain": [
              "<Figure size 432x288 with 1 Axes>"
            ]
          },
          "metadata": {
            "needs_background": "light"
          }
        }
      ]
    },
    {
      "cell_type": "code",
      "metadata": {
        "colab": {
          "base_uri": "https://localhost:8080/"
        },
        "id": "KV297CdSdGIe",
        "outputId": "3e8bb481-87c0-475e-beab-1f31fe067faa"
      },
      "source": [
        "from sklearn.cluster import AgglomerativeClustering\n",
        "\n",
        "cluster = AgglomerativeClustering(n_clusters=5, affinity='euclidean', linkage='ward')\n",
        "Agg=cluster.fit_predict(vector_sentence)\n",
        "\n",
        "hier_cluster = dbscan_cluster\n",
        "hier_cluster['AVG-W2V Clus Label'] = cluster.labels_\n",
        "\n",
        "hier_cluster.groupby(['AVG-W2V Clus Label'])['Reviews'].count()\n",
        "\n",
        "for i in range(5):\n",
        "    print(\"2 reviews of assigned to cluster \", i)\n",
        "    print(\"-\" * 70)\n",
        "    print(hier_cluster.iloc[hier_cluster.groupby(['AVG-W2V Clus Label']).groups[i][0]]['Reviews'])\n",
        "    print('\\n')\n",
        "    print(hier_cluster.iloc[hier_cluster.groupby(['AVG-W2V Clus Label']).groups[i][1]]['Reviews'])\n",
        "    print('\\n')\n",
        "    print(\"_\" * 70)"
      ],
      "execution_count": 67,
      "outputs": [
        {
          "output_type": "stream",
          "name": "stdout",
          "text": [
            "2 reviews of assigned to cluster  0\n",
            "----------------------------------------------------------------------\n",
            "nice phone, nice up grade from my pantach revue. Very clean set up and easy set up. never had an android phone but they are fantastic to say the least. perfect size for surfing and social media. great phone samsung\n",
            "\n",
            "\n",
            "It works good but it goes slow sometimes but its a very good phone I love it\n",
            "\n",
            "\n",
            "______________________________________________________________________\n",
            "2 reviews of assigned to cluster  1\n",
            "----------------------------------------------------------------------\n",
            "I feel so LUCKY to have found this used (phone to us & not used hard at all), phone on line from someone who upgraded and sold this one. My Son liked his old one that finally fell apart after 2.5+ years and didn't want an upgrade!! Thank you Seller, we really appreciate it & your honesty re: said used phone.I recommend this seller very highly & would but from them again!!\n",
            "\n",
            "\n",
            "I already had a phone with problems... I know it stated it was used, but dang, it did not state that it did not charge. I wish I would have read these comments then I would have not purchased this item.... and its cracked on the side.. damaged goods is what it is.... If trying to charge it another way does not work I am requesting for my money back... AND I WILL GET MY MONEY BACK...SIGNED AN UNHAPPY CUSTOMER....\n",
            "\n",
            "\n",
            "______________________________________________________________________\n",
            "2 reviews of assigned to cluster  2\n",
            "----------------------------------------------------------------------\n",
            "Very pleased\n",
            "\n",
            "\n",
            "The charging port was loose. I got that soldered in. Then needed a new battery as well. $100 later (not including cost of purchase) I have a usable phone. The phone should not have been sold in the state it was in.\n",
            "\n",
            "\n",
            "______________________________________________________________________\n",
            "2 reviews of assigned to cluster  3\n",
            "----------------------------------------------------------------------\n",
            "excelente\n",
            "\n",
            "\n",
            "excelente\n",
            "\n",
            "\n",
            "______________________________________________________________________\n",
            "2 reviews of assigned to cluster  4\n",
            "----------------------------------------------------------------------\n",
            "Hola, compramos dos teléfonos y vienieron totalente diferentes, uno vino con la batería dañada, se descarga de inmediato. El otro teléfono vino sin la tarjeta de memoria y los teclados y cargadores son muy distintos.Mi Tía y yo nos sentimos engañadas y defraudadas :(\n",
            "\n",
            "\n",
            "GRACIAS ME LLEGO EL PROCTO QUE COMPRE Y LLEVO EN EL MOMENTO INDICADO Y EN UN BUEN ENVALAJE LO RECOMIENDO SASTIFACTORIAMENTE..\n",
            "\n",
            "\n",
            "______________________________________________________________________\n"
          ]
        },
        {
          "output_type": "stream",
          "name": "stderr",
          "text": [
            "/usr/local/lib/python3.7/dist-packages/ipykernel_launcher.py:7: SettingWithCopyWarning: \n",
            "A value is trying to be set on a copy of a slice from a DataFrame.\n",
            "Try using .loc[row_indexer,col_indexer] = value instead\n",
            "\n",
            "See the caveats in the documentation: https://pandas.pydata.org/pandas-docs/stable/user_guide/indexing.html#returning-a-view-versus-a-copy\n",
            "  import sys\n"
          ]
        }
      ]
    },
    {
      "cell_type": "markdown",
      "metadata": {
        "id": "qS8-aSGpey9H"
      },
      "source": [
        "In one paragraph, please compare K means, DBSCAN and Hierarchical clustering."
      ]
    },
    {
      "cell_type": "markdown",
      "metadata": {
        "id": "jfQDvRE4fqA5"
      },
      "source": [
        "![image.png](data:image/png;base64,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)"
      ]
    }
  ]
}