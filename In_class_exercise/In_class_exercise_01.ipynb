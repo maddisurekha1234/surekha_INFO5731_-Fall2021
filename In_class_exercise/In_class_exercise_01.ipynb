{
  "nbformat": 4,
  "nbformat_minor": 0,
  "metadata": {
    "colab": {
      "name": "Untitled0.ipynb",
      "provenance": [],
      "collapsed_sections": [],
      "authorship_tag": "ABX9TyM8893PryIvk4awOjFU/Psj",
      "include_colab_link": true
    },
    "kernelspec": {
      "name": "python3",
      "display_name": "Python 3"
    },
    "language_info": {
      "name": "python"
    }
  },
  "cells": [
    {
      "cell_type": "markdown",
      "metadata": {
        "id": "view-in-github",
        "colab_type": "text"
      },
      "source": [
        "<a href=\"https://colab.research.google.com/github/maddisurekha1234/surekha_INFO5731_-Fall2021/blob/main/In_class_exercise/In_class_exercise_01.ipynb\" target=\"_parent\"><img src=\"https://colab.research.google.com/assets/colab-badge.svg\" alt=\"Open In Colab\"/></a>"
      ]
    },
    {
      "cell_type": "code",
      "metadata": {
        "colab": {
          "base_uri": "https://localhost:8080/"
        },
        "id": "7LsjzSVJXQTe",
        "outputId": "c029e446-461b-4b39-cab3-84ceb41a2a89"
      },
      "source": [
        "# Question 1 Python program to calculate the length of a string\n",
        "\n",
        "# using string function\n",
        "str_val = \"Computational Methods\"\n",
        "l=len(str_val)\n",
        "print(\"length of the string using string function\",l)\n",
        "\n",
        "#using without string function\n",
        "\n",
        "str_val = \"Computational Methods\"\n",
        "count = 0\n",
        " \n",
        "for i in str_val:\n",
        "    count = count + 1\n",
        " \n",
        "print(\"The length of the string is  = \", count)"
      ],
      "execution_count": 3,
      "outputs": [
        {
          "output_type": "stream",
          "name": "stdout",
          "text": [
            "length of the string using string function 21\n",
            "The length of the string is  =  21\n"
          ]
        }
      ]
    },
    {
      "cell_type": "code",
      "metadata": {
        "colab": {
          "base_uri": "https://localhost:8080/"
        },
        "id": "yKn06G97iQQ5",
        "outputId": "6df643cf-1296-410e-fd4e-d2eddb200827"
      },
      "source": [
        "# Question 2 Python program to count the number of characters in a string\n",
        "\n",
        "def cnt_num_of_strings(string):\n",
        "  str_dictionary = dict()\n",
        "  for each_val in string:\n",
        "    cnt=0\n",
        "    for i in string:\n",
        "      if each_val == i:\n",
        "        cnt+=1\n",
        "    str_dictionary[each_val] = cnt\n",
        "  sorted_dictionary = dict( sorted(str_dictionary.items() , key = operator.itemgetter(1), reverse = True))\n",
        "  return sorted_dictionary\n",
        "\n",
        "str_val = 'google.com'\n",
        "print(\"Expected Result: \" , cnt_num_of_strings(str_val))"
      ],
      "execution_count": 20,
      "outputs": [
        {
          "output_type": "stream",
          "name": "stdout",
          "text": [
            "Expected Result:  {'o': 3, 'g': 2, 'l': 1, 'e': 1, '.': 1, 'c': 1, 'm': 1}\n"
          ]
        }
      ]
    },
    {
      "cell_type": "code",
      "metadata": {
        "colab": {
          "base_uri": "https://localhost:8080/"
        },
        "id": "6qNMG4IJBrHk",
        "outputId": "8a51c075-4f65-4997-b02a-f91f39cbd52f"
      },
      "source": [
        "# Question 3 Python program to sum all the items in a list\n",
        "\n",
        "sum_of_items = 0\n",
        "list_of_items = [-5,20,10,-50,15]\n",
        "for each_val in range(0, len(list_of_items)):\n",
        "    sum_of_items = sum_of_items + list_of_items[each_val]\n",
        "print(\"Sum of all items in a given list: \", sum_of_items)"
      ],
      "execution_count": 24,
      "outputs": [
        {
          "output_type": "stream",
          "name": "stdout",
          "text": [
            "Sum of all items in a given list:  -10\n"
          ]
        }
      ]
    },
    {
      "cell_type": "code",
      "metadata": {
        "colab": {
          "base_uri": "https://localhost:8080/"
        },
        "id": "UySGShbaFVUv",
        "outputId": "6f05573d-2e0f-42d7-9d67-a742646e7f4c"
      },
      "source": [
        "# Question 4 Python program to get a string from a given string where all occurrences of its first char have been changed to '$', except the first char itself\n",
        "\n",
        "def change_char_in_str(str_val):\n",
        "  char = str_val[0]  \n",
        "  length_of_str = len(str_val)  \n",
        "  str_val = str_val.replace(char, '$')  \n",
        "  str_val = char + str_val[1:]  \n",
        "  return str_val  \n",
        "print(change_char_in_str('restart')) \n"
      ],
      "execution_count": 25,
      "outputs": [
        {
          "output_type": "stream",
          "name": "stdout",
          "text": [
            "resta$t\n"
          ]
        }
      ]
    },
    {
      "cell_type": "code",
      "metadata": {
        "colab": {
          "base_uri": "https://localhost:8080/"
        },
        "id": "UURTqRaXGW_X",
        "outputId": "222f3a25-a9a5-404b-968f-37e6cdf68eb9"
      },
      "source": [
        "# Question 5 Python program which could accept two parameter a and b to calculate and output the result of S 𝑆=3.14∗(1+𝑎/𝑏)3\n",
        "\n",
        "#function to throw the error when zero is given as b value\n",
        "\n",
        "def error(error_desc):\n",
        "  print(error_desc)\n",
        "#use function to accept two parameters \n",
        "def cal_the_S_value(a,b):\n",
        "  if b == 0:\n",
        "    error(\"Error: Divide by zero\")\n",
        "  return 3.14 * (1 + a/b)**3\n",
        "para1 = int(input(\"Enter the value of a: \"))\n",
        "para2 = int(input(\"Enter the value of b: \"))\n",
        "print(\"The output is: \" ,cal_the_S_value(para1,para2))\n",
        "\n"
      ],
      "execution_count": 32,
      "outputs": [
        {
          "output_type": "stream",
          "name": "stdout",
          "text": [
            "Enter the value of a: 8\n",
            "Enter the value of b: 9\n",
            "The output is:  21.161618655692727\n"
          ]
        }
      ]
    },
    {
      "cell_type": "code",
      "metadata": {
        "colab": {
          "base_uri": "https://localhost:8080/"
        },
        "id": "z8MdB7ytIgpE",
        "outputId": "4b4a6579-d98e-486c-931a-0c1d4fb7c6da"
      },
      "source": [
        "# Question 6 Python program to concatenate following dictionaries to create a new one.\n",
        "\n",
        "dictionary1 = { 1: 10, 2: 20}\n",
        "dictionary2 = { 3: 30, 4: 40}\n",
        "dictionary3 = { 5 : 50, 6 : 60 }\n",
        "dictionary4 = {}\n",
        "for each_dic in (dictionary1, dictionary2, dictionary3): dictionary4.update(each_dic)\n",
        "print(\"concatenated dictionary is \",dictionary4)"
      ],
      "execution_count": 34,
      "outputs": [
        {
          "output_type": "stream",
          "name": "stdout",
          "text": [
            "concatenated dictionary is  {1: 10, 2: 20, 3: 30, 4: 40, 5: 50, 6: 60}\n"
          ]
        }
      ]
    },
    {
      "cell_type": "code",
      "metadata": {
        "colab": {
          "base_uri": "https://localhost:8080/"
        },
        "id": "EnTgW3veJ8Vf",
        "outputId": "27d196fe-44cc-4ccf-d77c-ed989e6475cc"
      },
      "source": [
        "# Question 7 Python program to check whether an element exists within a tuple\n",
        "tuple = (\"Surekha\", \"INFO 5731\" , \"Computational Methods\" , \"Data Science\",\"UNT\")\n",
        "element = input(\"enter the element\")\n",
        "if element in tuple:\n",
        "    print(element,\"exists in tuple\")\n",
        "else:\n",
        "    print(element,\"does not exist in tuple\") "
      ],
      "execution_count": 44,
      "outputs": [
        {
          "output_type": "stream",
          "name": "stdout",
          "text": [
            "enter the elementhello\n",
            "hello does not exist in tuple\n"
          ]
        }
      ]
    },
    {
      "cell_type": "code",
      "metadata": {
        "colab": {
          "base_uri": "https://localhost:8080/"
        },
        "id": "-Dza0_jRMHN3",
        "outputId": "99477b77-28fe-4a39-9760-3939453f8a13"
      },
      "source": [
        "# Question 8 Python program to find maximum and the minimum value in a set\n",
        "set_items = {28, 49, 25, 17,1}\n",
        "# find maximum value\n",
        "print(max(set_items))\n",
        "#find minimum value\n",
        "print(min(set_items))"
      ],
      "execution_count": 47,
      "outputs": [
        {
          "output_type": "stream",
          "name": "stdout",
          "text": [
            "49\n",
            "1\n"
          ]
        }
      ]
    },
    {
      "cell_type": "code",
      "metadata": {
        "colab": {
          "base_uri": "https://localhost:8080/"
        },
        "id": "dE-vxJFjMqzM",
        "outputId": "088423c1-eaf7-4517-f0a9-297728af03e6"
      },
      "source": [
        "# Question 9 Python program to randomly divide the students in this class into five groups for term projects, each group should have at least 3 students but no more than 5 students \n",
        "\n",
        "import random\n",
        "stu_list = ['vmb0067','pc0353','snd0097','yye0005','sg0940','bk0301','rak0120','rrk0058','spk0057',\n",
        "                'vl0135','nm0547','pn0159', 'msp0174','dd0420','ds0761','rs0850','ss1995','at0739','at0768',\n",
        "                'mv0299','tv0119','dy0091']\n",
        "groupsize = []\n",
        "for each_iteration in range(5):\n",
        "  groupsize.append(random.randint(3,5))\n",
        "\n",
        "if sum(groupsize) == len(stu_list):\n",
        "  print(groupsize)\n",
        "  for  each_j in range(5):\n",
        "    sample_stu = random.sample(stu_list,groupsize[each_j-1])\n",
        "    stu_list = [each_j for each_j in stu_list if each_j not in sample_stu]\n",
        "    print(\"students \" +str(each_j+1)+ \" : \",sample_stu)\n",
        "\n"
      ],
      "execution_count": 55,
      "outputs": [
        {
          "output_type": "stream",
          "name": "stdout",
          "text": [
            "[4, 5, 4, 4, 5]\n",
            "students 1 :  ['snd0097', 'spk0057', 'at0739', 'nm0547', 'vmb0067']\n",
            "students 2 :  ['rak0120', 'tv0119', 'rs0850', 'ds0761']\n",
            "students 3 :  ['yye0005', 'bk0301', 'sg0940', 'dy0091', 'mv0299']\n",
            "students 4 :  ['vl0135', 'pn0159', 'pc0353', 'msp0174']\n",
            "students 5 :  ['ss1995', 'at0768', 'rrk0058', 'dd0420']\n"
          ]
        }
      ]
    },
    {
      "cell_type": "code",
      "metadata": {
        "colab": {
          "base_uri": "https://localhost:8080/"
        },
        "id": "JAcVaGx9PIVu",
        "outputId": "e5bd8730-ecdd-4eb6-b2cd-fb640f842133"
      },
      "source": [
        "# Question 10 Python program to find the duplicate elements in a given array of integers. Return -1 If there are no such elements\n",
        "from collections import Counter\n",
        "def duplicate_elements(b):\n",
        "  dict_val=Counter(b)\n",
        "  print(dict_val,type(dict_val))\n",
        "  b=Counter({k: c for k, c in dict_val.items() if c > 1})\n",
        "  print(bool(b),b)\n",
        "  if (bool(b) == False):\n",
        "    return -1\n",
        "  print(\"array has duplicate values\")\n",
        "arr_int=[1,3,6,4,8]\n",
        "output= duplicate_elements(arr_int)\n",
        "print(output)"
      ],
      "execution_count": 81,
      "outputs": [
        {
          "output_type": "stream",
          "name": "stdout",
          "text": [
            "Counter({1: 1, 3: 1, 6: 1, 4: 1, 8: 1}) <class 'collections.Counter'>\n",
            "False Counter()\n",
            "-1\n"
          ]
        }
      ]
    },
    {
      "cell_type": "code",
      "metadata": {
        "colab": {
          "base_uri": "https://localhost:8080/"
        },
        "id": "g8NKwcfHEHEB",
        "outputId": "1e55ec40-6f52-4e5a-9601-04f555e576bb"
      },
      "source": [
        "# Question 11 Python program to select all the Sundays of a specified year\n",
        "\n",
        "import pandas as pnd\n",
        "year_input = \"2021\"\n",
        "start_date = year + \"-01-01\"\n",
        "number_of_periods = 52\n",
        "freq = \"W-SUN\"\n",
        "sundays = pd.date_range(start = start_date,\n",
        "                        periods = number_of_periods,\n",
        "                        freq = freq)                      \n",
        "print(sundays)\n"
      ],
      "execution_count": 84,
      "outputs": [
        {
          "output_type": "stream",
          "name": "stdout",
          "text": [
            "DatetimeIndex(['2021-01-03', '2021-01-10', '2021-01-17', '2021-01-24',\n",
            "               '2021-01-31', '2021-02-07', '2021-02-14', '2021-02-21',\n",
            "               '2021-02-28', '2021-03-07', '2021-03-14', '2021-03-21',\n",
            "               '2021-03-28', '2021-04-04', '2021-04-11', '2021-04-18',\n",
            "               '2021-04-25', '2021-05-02', '2021-05-09', '2021-05-16',\n",
            "               '2021-05-23', '2021-05-30', '2021-06-06', '2021-06-13',\n",
            "               '2021-06-20', '2021-06-27', '2021-07-04', '2021-07-11',\n",
            "               '2021-07-18', '2021-07-25', '2021-08-01', '2021-08-08',\n",
            "               '2021-08-15', '2021-08-22', '2021-08-29', '2021-09-05',\n",
            "               '2021-09-12', '2021-09-19', '2021-09-26', '2021-10-03',\n",
            "               '2021-10-10', '2021-10-17', '2021-10-24', '2021-10-31',\n",
            "               '2021-11-07', '2021-11-14', '2021-11-21', '2021-11-28',\n",
            "               '2021-12-05', '2021-12-12', '2021-12-19', '2021-12-26'],\n",
            "              dtype='datetime64[ns]', freq='W-SUN')\n"
          ]
        }
      ]
    }
  ]
}