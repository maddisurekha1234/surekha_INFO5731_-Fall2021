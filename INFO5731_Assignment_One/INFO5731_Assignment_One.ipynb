{
  "nbformat": 4,
  "nbformat_minor": 0,
  "metadata": {
    "colab": {
      "name": "INFO5731_Assignment_One.ipynb",
      "provenance": [],
      "collapsed_sections": [],
      "include_colab_link": true
    },
    "kernelspec": {
      "display_name": "Python 3",
      "language": "python",
      "name": "python3"
    },
    "language_info": {
      "codemirror_mode": {
        "name": "ipython",
        "version": 3
      },
      "file_extension": ".py",
      "mimetype": "text/x-python",
      "name": "python",
      "nbconvert_exporter": "python",
      "pygments_lexer": "ipython3",
      "version": "3.8.5"
    }
  },
  "cells": [
    {
      "cell_type": "markdown",
      "metadata": {
        "id": "view-in-github",
        "colab_type": "text"
      },
      "source": [
        "<a href=\"https://colab.research.google.com/github/maddisurekha1234/surekha_INFO5731_-Fall2021/blob/main/INFO5731_Assignment_One/INFO5731_Assignment_One.ipynb\" target=\"_parent\"><img src=\"https://colab.research.google.com/assets/colab-badge.svg\" alt=\"Open In Colab\"/></a>"
      ]
    },
    {
      "cell_type": "markdown",
      "metadata": {
        "id": "Ryk8D1Q4Wsrp"
      },
      "source": [
        "# **INFO5731 Assignment One**"
      ]
    },
    {
      "cell_type": "markdown",
      "metadata": {
        "id": "90_NR8c5XGWc"
      },
      "source": [
        "# Question 1\n",
        "\n",
        "(20 points). Write a Python program to generate 12 random numbers between 1 and 100. Sort the list of numbers in ascending order and print it out. Sort the list of numbers in descending order and print it out. Calculate the average for the group and print it out."
      ]
    },
    {
      "cell_type": "code",
      "metadata": {
        "colab": {
          "base_uri": "https://localhost:8080/"
        },
        "id": "5QX6bJjGWXY9",
        "outputId": "489d5349-1bf5-47c3-da76-cb4c3bb1c04e"
      },
      "source": [
        "import random as rd             # importing the random pythom library which is used to generate the random numbers\n",
        "randomnumber_List = []          # Created the empty list\n",
        "for i in range(0,12):           # for loop\n",
        "    x = rd.randint(1,100)       # randint function of random library is used to generate the random numbers\n",
        "    randomnumber_List.append(x) # Appending to the empty random list\n",
        "print(randomnumber_List)\n",
        "randomnumber_List.sort()        # sort function is used to sort the number in the list\n",
        "print(randomnumber_List) \n",
        "randomnumber_List.sort(reverse = True)  # True sorts the list in the descending order.\n",
        "print(randomnumber_List) \n",
        "average = sum(randomnumber_List)/len(randomnumber_List) # This logic will calculate the average\n",
        "print('average = ',average)\n",
        "\n"
      ],
      "execution_count": 62,
      "outputs": [
        {
          "output_type": "stream",
          "name": "stdout",
          "text": [
            "[9, 31, 100, 37, 30, 3, 35, 58, 35, 2, 49, 60]\n",
            "[2, 3, 9, 30, 31, 35, 35, 37, 49, 58, 60, 100]\n",
            "[100, 60, 58, 49, 37, 35, 35, 31, 30, 9, 3, 2]\n",
            "average =  37.416666666666664\n"
          ]
        }
      ]
    },
    {
      "cell_type": "markdown",
      "metadata": {
        "id": "1F_PZdH9Sh49"
      },
      "source": [
        "# Question 2\n",
        "(25 points). Write a program that will do the following string formatting tasks:\n",
        "\n",
        "(1) Ask the user to enter two sentences.\n",
        "\n",
        "(2) Make each sentence into a list. Each element in the list should correspond to a word in the sentence. For example, if the sentence is \"Alas! Am I alive? This is my first python program\", the program should print out ['Alas, '!', 'Am', 'I', 'alive, '?', 'This', 'is', 'my', 'first', 'python', 'program'].\n",
        "\n",
        "(3) Compare the two sentences. Print out a list of words that occur in both sentences.\n",
        "\n",
        "(4) Remove any punctuation from the sentence and print it back out. It should remove at least the following characters, but it can remove more: period(“.”), comma (“,”), semicolon (“;”), and colon (“:”)\n",
        "\n",
        "(5) Count the number of vowels in the sentences. Print out each vowel and the number of times it appears in the sentences, such as: a:2, e:1, i:0, etc"
      ]
    },
    {
      "cell_type": "code",
      "metadata": {
        "colab": {
          "base_uri": "https://localhost:8080/"
        },
        "id": "Y0oOSlsOS0cq",
        "outputId": "d1d6f28d-f591-4469-e983-ed58621f3da8"
      },
      "source": [
        "#1\n",
        "import re\n",
        "Sentence1 = input(\"Enter first sentence\")   #input(\"\") is used to take the input from the user   \n",
        "Sentence2 = input(\"Enter second sentence\")  #input(\"\") is used to take the input from the user\n",
        "print(\"Sentence 1\",Sentence1)\n",
        "print(\"Sentence 2\",Sentence2)\n",
        "\n",
        "#2                   \n",
        "\n",
        "sen1_split=re.findall(r\"[\\w']+|[.,!?;#@]\", Sentence1) # findall() finds  the given regression and splits the sentence and convert in to list\n",
        "sen2_split=re.findall(r\"[\\w']+|[.,!?;#@]\", Sentence2) # findall() finds  the given regression and splits the sentence and convert in to list\n",
        "print(sen1_split,type(sen1_split))\n",
        "print(sen2_split)\n",
        "\n",
        "#3\n",
        "sentence1_words = set(Sentence1.split()) # Splitting the sentence with space\n",
        "sentence2_words = set(Sentence2.split()) # Splitting the sentence with space\n",
        "common_words = sentence1_words & sentence2_words # & is used to find the words which are present in both sentences.\n",
        "print(\"common words\",common_words)\n",
        "\n",
        "#4\n",
        "punctuations = '''!()-[]{};:'\"\\,<>./?@#$%^&*_~''' # defined the special charcaters in the punctuation variable\n",
        "\n",
        "sentence = \"surekha8033@gmail.com is my email address\" \n",
        "no_punctuations = \"\"\n",
        "for char in sentence:\n",
        "   if char not in punctuations:             # filtering out the character which are not punctations\n",
        "       no_punctuations = no_punctuations + char # charcter will get  appended to a no_punctuations string\n",
        "print(no_punctuations)\n",
        "\n",
        "\n",
        "sentence = \"Hi! I am Surekha Graduate student from  Data Science Department\"\n",
        "sentence_lowercase = sentence.lower()\n",
        "vowels = {}\n",
        "for v in \"aeiou\":                         # for each vowel character \n",
        "    cnt_of_vowels_in_sent = sentence_lowercase.count(v) # we will count the number of vowels in the string\n",
        "    vowels[v] = cnt_of_vowels_in_sent     # Appending to the dictionary with the vowel letter and its count\n",
        "print(vowels)"
      ],
      "execution_count": 65,
      "outputs": [
        {
          "output_type": "stream",
          "name": "stdout",
          "text": [
            "Enter first sentenceAlas! Am I alive? This is my first python program\n",
            "Enter second sentenceComputation methods is my fav course\n",
            "Sentence 1 Alas! Am I alive? This is my first python program\n",
            "Sentence 2 Computation methods is my fav course\n",
            "['Alas', '!', 'Am', 'I', 'alive', '?', 'This', 'is', 'my', 'first', 'python', 'program'] <class 'list'>\n",
            "['Computation', 'methods', 'is', 'my', 'fav', 'course']\n",
            "common words {'my', 'is'}\n",
            "surekha8033gmailcom is my email address\n",
            "{'a': 7, 'e': 7, 'i': 3, 'o': 1, 'u': 3}\n"
          ]
        }
      ]
    },
    {
      "cell_type": "markdown",
      "metadata": {
        "id": "CmFoI4jDS9nx"
      },
      "source": [
        "# Question 3 \n",
        "\n",
        "(15 points). The formula that describes the volume V of a sphere with radius r is the following:\n",
        "\n",
        "$ V=\\frac{4}{3}\\ast\\ \\pi\\ast\\ r^3 $\n",
        "\n",
        "Write a program to calculate the value of V when r is in the range of 1–10. Output the result in the following format:\n",
        "\n",
        "\tr\tV\n",
        "\t1\t…\n",
        "\t2\t…\n",
        "\t3\t…\n"
      ]
    },
    {
      "cell_type": "code",
      "metadata": {
        "colab": {
          "base_uri": "https://localhost:8080/"
        },
        "id": "pEyqeioAT95b",
        "outputId": "70795f45-7689-474a-e762-eeb887e5c4ab"
      },
      "source": [
        "# Your code here\n",
        "def volume_of_sphere(radius):\n",
        "  return (4/3)*(3.1415)*(radius**3)   # return the calculated value of formula\n",
        "\n",
        "def main():\n",
        "  print(\"r\\t\\tV\")\n",
        "  for radius in range(1,11):              # for each value in the range(1,11)\n",
        "    print(\"%d\\t\\t%.2f\"%(radius,volume_of_sphere(radius)))  # calling the function volume_of_sphere by sending the radium value as a arg\n",
        "  return\n",
        "main()                          # calling the main function\n"
      ],
      "execution_count": 66,
      "outputs": [
        {
          "output_type": "stream",
          "name": "stdout",
          "text": [
            "r\t\tV\n",
            "1\t\t4.19\n",
            "2\t\t33.51\n",
            "3\t\t113.09\n",
            "4\t\t268.07\n",
            "5\t\t523.58\n",
            "6\t\t904.75\n",
            "7\t\t1436.71\n",
            "8\t\t2144.60\n",
            "9\t\t3053.54\n",
            "10\t\t4188.67\n"
          ]
        }
      ]
    },
    {
      "cell_type": "code",
      "metadata": {
        "id": "pMCr3l8tnu0j"
      },
      "source": [
        ""
      ],
      "execution_count": null,
      "outputs": []
    },
    {
      "cell_type": "markdown",
      "metadata": {
        "id": "z3tBE7E-Xn5X"
      },
      "source": [
        "# Question 4\n",
        "\n",
        "(40 points). In the field of Data Science, data is often formatted as a comma-delimited (CSV) file, where each line in a file corresponds to a field's value. Refer to Chapter 9 (p. 106) for more information on comma-delimited files. To answer this question, you will need to download the file [Assignment1_denton_housing.csv](https://github.com/unt-iialab/info5731-fall2021/blob/main/assignments/Assignment1_denton_housing.csv) included with this assignment. The file [Assignment1_denton_housing.csv](https://github.com/unt-iialab/info5731-fall2021/blob/main/assignments/Assignment1_denton_housing.csv) contains statistics about housing in the city of Denton from 2008 to 2014. Write a program to implement the following questions.\n",
        "\n",
        "(1) (10 pts) Calculate the difference in the number of Occupied Housing Units from year to year and print it. The difference must be calculated for the consecutive years such as 2008-2009, 2009-2010 etc. Finally, print the values in the ascending order.\n",
        "\n",
        "(2) (10 pts) For all the years, calculate the percentage of housing units which are vacant an occupied. Print the results in the following format:\n",
        "\n",
        "Year Vacant Housing Units Occupied Housing Units\n",
        "\n",
        "    2008  30%   70%                          \n",
        "\t2009 ----- -----\n",
        "\t2010 ----- -----\n",
        "    2011 ----- -----\n",
        "\t2012 ----- -----\n",
        "    2013 ----- -----\n",
        "\t2014 ----- -----\n",
        "  \n",
        "  \n",
        "\n",
        "(3) (10 pts) Calculate and print the valued and years in which the highest number of housing units were vacant and occupied. Print the results in the following format:  \n",
        "\n",
        "                              Year\tValue\n",
        "\tVacant Housing Units\t  -----   -----\n",
        "\tOccupied Housing Units\t-----   -----\n",
        "\n",
        "(4) (10 pts) Calculate the harmonic mean of the total housing units and print it out. You can find the information about harmonic mean here: https://ncalculators.com/statistics/harmonic-mean-calculator.htm"
      ]
    },
    {
      "cell_type": "code",
      "metadata": {
        "colab": {
          "base_uri": "https://localhost:8080/"
        },
        "id": "lqGYuHBhcsRH",
        "outputId": "8d76c40a-e573-4d71-9094-a01903e9a956"
      },
      "source": [
        "# Your code here\n",
        "\n",
        "# Question 1\n",
        "import csv\n",
        "occupied_units = {} \n",
        "with open(\"Assignment1_denton_housing.csv\",'r') as input_file:    # Opening the .csv file which is providing in the assignemnt\n",
        "    csv_file_reader = csv.reader(input_file)                  # reading the csv file\n",
        "    for row in csv_file_reader:                           # for each row in csv file\n",
        "        if row[1] == \"Occupied Housing Units\":            # Filtering out the rows which is \"Occupied Housing Units\"\n",
        "            occupied_units[int(row[0])] = int(row[2])     # If yes extracting the value column data\n",
        "difference_in_units = {} \n",
        "year = 2008                                             \n",
        "while year < 2014:\n",
        "    difference_in_units[occupied_units[year+1]-occupied_units[year]] = str(year)+\"-\"+str(year+1) # subtracting the values of one year and the year+1 and adding in to dict as key and value\n",
        "    year = year+1\n",
        "\n",
        "for item in difference_in_units:\n",
        "    print(\"From\",difference_in_units[item]+\":\",item)  # printing the key and values of a dictionary\n",
        "\n",
        "\n",
        "\n",
        "# Question 2\n",
        "import csv\n",
        "total_housing_units = {}\n",
        "occupied_housing_units = {}\n",
        "vacant_housing_units = {}\n",
        "with open(\"Assignment1_denton_housing.csv\",'r') as input_file:  #opening the csv file\n",
        "    file_reader = csv.reader(input_file)                        # reading the file\n",
        "    for row in file_reader:                                     # for each row in the file reader\n",
        "        if row[1] == \"Total Housing Units\": \n",
        "            total_housing_units[int(row[0])] = int(row[2])      # Adding the data of year value and its value of Total Housing uints in to dictionary\n",
        "        elif row[1] == \"Occupied Housing Units\": \n",
        "            occupied_housing_units[int(row[0])] = int(row[2])   # Adding the data of year value and its value of Occupied Housing uints in to dictionary\n",
        "        elif row[1] == \"Vacant Housing Units\": \n",
        "            vacant_housing_units[int(row[0])] = int(row[2])     # Adding the data of year value and its value of Vacant Housing uints in to dictionary\n",
        "year = 2008 \n",
        "print(\"============================================================\")\n",
        "print(\"Year\\tVacant Housing Units\\tOccupied Housing Units\") \n",
        "while year <= 2014: \n",
        "    vacant_percentage = (vacant_housing_units[year]/total_housing_units[year])*100 # calculating the percentage of vacant housing\n",
        "    occupied_percentage = (occupied_housing_units[year]/total_housing_units[year])*100 # calculating the percentage of occupied housing\n",
        "    print(str(year)+\"\\t\"+str(round(vacant_percentage,1))+\"%\\t\\t\\t\"+str(round(occupied_percentage,1))+\"%\") # calculating the percentage of vacant hosuing\n",
        "    year+=1\n",
        "\n",
        "# Question 3\n",
        "import csv\n",
        "\n",
        "def main():\n",
        " \n",
        "  columns = ['year','title_field','value']\n",
        "  fileName = \"./Assignment1_denton_housing.csv\"\n",
        "  with open(fileName, newline='') as csvfile:     # opening the csv file\n",
        "    data = csv.DictReader(csvfile)                # Reading the csv file\n",
        "    occupied_year = 0                             # Initiated the variables with 0\n",
        "    vacancy_year = 0\n",
        "    occupied_house = 0\n",
        "    vacancy_house = 0\n",
        "    for row in data:                              # Iterating the rows in the dataset\n",
        "      year = int(row[columns[0]])                 # Assigning the year value and value column data to the variables\n",
        "      val = int(row[columns[2]] )\n",
        "      if row[columns[1]] == \"Occupied Housing Units\" and val > occupied_house: # Filtering the rows of Occupied Housing Units\" and comparing the value\n",
        "         occupied_house =val                      # setting up the value if the condition is true\n",
        "         occupied_year = year\n",
        "\n",
        "      if row[columns[1]] == \"Vacant Housing Units\" and val > vacancy_house: # Filtering the rows of Vacant Housing Units\" and comparing the value\n",
        "         vacancy_house =val                                 # setting up the value if the condition is true\n",
        "         vacancy_year = year\n",
        "    print(\"============================================================\")\n",
        "    print(\"\\t\\t\\tyear\\t\\tvalue\")\n",
        "    print(\"Vacant Housing Units\\t%d\\t\\t%d\"%(vacancy_year,vacancy_house))\n",
        "    print(\"Occupied Housing Units\\t%d\\t\\t%d\"%(occupied_year,occupied_house))\n",
        "\n",
        "main()\n",
        "\n",
        "# Question 4\n",
        "import csv\n",
        "\n",
        "def main():\n",
        " \n",
        "  columns = ['year','title_field','value']        #defining the column headers as per the csv file\n",
        "  fileName = \"./Assignment1_denton_housing.csv\"\n",
        "  with open(fileName, newline='') as csvfile:     # Opening the file\n",
        "    dataset = csv.DictReader(csvfile)             # Reading the file\n",
        "    cnt = 0\n",
        "    sum_recp = 0\n",
        "    for each_row in dataset:                      # Iterating on each row in the dataset\n",
        "      if each_row[columns[1]] == \"Total Housing Units\" :  # Filtering if the data of title filed is \"Total Housing\"\n",
        "        cnt+=1                                    # Incrementing it\n",
        "        sum_recp+=(1/int(each_row[columns[2]]))   # Dividing with it value to cal the Harmonic Mean\n",
        "    print(\"============================================================\")\n",
        "    print(\"Harmonic Mean for Total Housing Units : %.4f\" %(cnt/sum_recp))\n",
        "    return\n",
        "main()\n"
      ],
      "execution_count": 68,
      "outputs": [
        {
          "output_type": "stream",
          "name": "stdout",
          "text": [
            "From 2008-2009: -795\n",
            "From 2009-2010: 5091\n",
            "From 2010-2011: -303\n",
            "From 2011-2012: 1404\n",
            "From 2012-2013: 1565\n",
            "From 2013-2014: 2622\n",
            "============================================================\n",
            "Year\tVacant Housing Units\tOccupied Housing Units\n",
            "2008\t10.9%\t\t\t89.1%\n",
            "2009\t9.1%\t\t\t90.9%\n",
            "2010\t8.1%\t\t\t91.9%\n",
            "2011\t9.4%\t\t\t90.6%\n",
            "2012\t6.7%\t\t\t93.3%\n",
            "2013\t8.8%\t\t\t91.2%\n",
            "2014\t5.7%\t\t\t94.3%\n",
            "============================================================\n",
            "\t\t\tyear\t\tvalue\n",
            "Vacant Housing Units\t2008\t\t4483\n",
            "Occupied Housing Units\t2014\t\t46295\n",
            "============================================================\n",
            "Harmonic Mean for Total Housing Units : 44398.2854\n"
          ]
        }
      ]
    },
    {
      "cell_type": "code",
      "metadata": {
        "id": "sL13UPtcj1ll"
      },
      "source": [
        "_"
      ],
      "execution_count": null,
      "outputs": []
    }
  ]
}